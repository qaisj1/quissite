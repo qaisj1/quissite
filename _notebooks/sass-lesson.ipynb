{
 "cells": [
  {
   "attachments": {},
   "cell_type": "markdown",
   "metadata": {},
   "source": [
    "# SASS"
   ]
  },
  {
   "attachments": {},
   "cell_type": "markdown",
   "metadata": {},
   "source": [
    "# Why SASS?\n",
    "\n",
    "SASS is an improvement on CSS in that there are methods of abstraction. It is a stylesheet language that is compiled into CSS, which means that Sass will translate the Sass code you wrote into CSS, which is what your web browser can read.\n",
    "\n",
    "# SASS vs SCSS\n",
    "As you learn about Sass, you might notice something called Scss. They are basically the same thing except that Scss uses curly braces and semicolons to distinguish between lines. Sass uses indentation and newlines instead. We will be teaching the **Scss** syntax because it is more commonly used."
   ]
  },
  {
   "attachments": {},
   "cell_type": "markdown",
   "metadata": {},
   "source": [
    "# Getting started\n",
    "\n",
    "A easy way to write SASS and have it preprocessed into CSS is by using a Jekyll powered website, such as GitHub pages or Fastpages.\n",
    "\n",
    "The first step is to clone a GitHub pages repo, such as this [one](https://github.com/lwu1822/sassy_squad).\n",
    "\n",
    "Within the repository, head over to `assets/css/`, and open `style.scss`.\n",
    "\n",
    "This is where you can create your SASS code.\n",
    "\n",
    "To see your CSS-translated SASS code, head over to `_site/assets/css/style.css`\n",
    "\n",
    "Note: You will need to run bundle exec jekyll serve before the _site directory appears.\n",
    "\n",
    "The first few hundred lines are used to style Github's theme. Make sure to scroll to the very bottom to see the SASS code that you wrote, which is in the form of CSS."
   ]
  },
  {
   "attachments": {},
   "cell_type": "markdown",
   "metadata": {},
   "source": [
    "# Nesting\n",
    "\n",
    "While writing CSS, you may notice that many selectors share the same element.\n",
    "\n",
    "For example, let's say you have a div element that controls the font. Inside the div element, you have two other divs that control the font size.\n",
    "\n",
    "SASS provides a feature called nesting in which you can write styling code in a way that looks like an HTML hierarchy.\n",
    "\n"
   ]
  },
  {
   "attachments": {},
   "cell_type": "markdown",
   "metadata": {},
   "source": [
    "# Mini-hack\n",
    "\n",
    "Write out the SASS equivalent for the following CSS code:\n",
    "\n",
    "```\n",
    ".a .b {\n",
    "    color: green;\n",
    "}\n",
    "\n",
    ".a .c {\n",
    "    color: blue;\n",
    "}\n",
    "```"
   ]
  },
  {
   "attachments": {},
   "cell_type": "markdown",
   "metadata": {},
   "source": [
    ".a {\n",
    "\n",
    "  .b {\n",
    "\n",
    "    color: green;\n",
    "\n",
    "  }\n",
    "\n",
    "  .c {\n",
    "\n",
    "    color: blue;\n",
    "\n",
    "  }\n",
    "  \n",
    "}\n"
   ]
  },
  {
   "attachments": {},
   "cell_type": "markdown",
   "metadata": {},
   "source": [
    "# Extend/Inheritance\n",
    "\n",
    "What are some similarities that the buttons share? What are the differences?\n",
    "\n",
    "The buttons have the same width and height, font color, and spacing between each button. They have a different background color.\n",
    "If we were to write it out in CSS, we would need to specify these properties for each button selector.\n",
    "\n",
    "With SASS, we can create a placeholder class that stores the code we want to reuse. A placeholder class looks like this:"
   ]
  },
  {
   "attachments": {},
   "cell_type": "markdown",
   "metadata": {},
   "source": [
    "# Mixin\n",
    "\n",
    "To give the buttons a background, we used background: radial-gradient();\n",
    "\n",
    "Another way to code for the background is through the use of a mixin.\n",
    "\n",
    "A mixin is similar to extend in that it creates a code template that can be reused. It can also take in parameters so that you can create dynamic styling.\n",
    "\n",
    "In the example of the buttons, all three buttons have a gradient background. However, the background colors are different.\n",
    "\n",
    "With SASS, we can create a @mixin at rule that takes in two colors as the parameter:\n",
    "\n",
    "In addition, you can also place styling rules that do not take in variables within mixin.\n",
    "\n",
    "The code below shows how to style the rest of the button within a mixin:"
   ]
  },
  {
   "attachments": {},
   "cell_type": "markdown",
   "metadata": {},
   "source": [
    "# Mini-hack\n",
    "\n",
    "Write out a mixin in SASS that takes in a color and a font size as the parameter. Within the mixin, set the background color and font color to the color parameter, and set the font size to the font size parameter. Then create a selector that calls the mixin, and pass in a color and font size of your choice as the arguments."
   ]
  },
  {
   "attachments": {},
   "cell_type": "markdown",
   "metadata": {},
   "source": [
    "@mixin style($color, $font-size) {\n",
    "  \n",
    "  background-color: $color;\n",
    "\n",
    "  color: $color;\n",
    "\n",
    "  font-size: $font-size;\n",
    "\n",
    "}\n",
    "\n",
    "/* Call the mixin and pass in specific color and font size values */\n",
    "\n",
    ".my-selector {\n",
    "\n",
    "  @include style(#ff0000, 16px);\n",
    "  \n",
    "}\n"
   ]
  },
  {
   "attachments": {},
   "cell_type": "markdown",
   "metadata": {},
   "source": [
    "# Function\n",
    "\n",
    "To change between light and dark mode, we can create an invert function in SASS.\n",
    "\n",
    "Functions in SASS look like this:\n",
    "\n",
    "@function name(parameters) {\n",
    "\n",
    "\t//code\n",
    "\n",
    "\t@return value;\n",
    "\n",
    "}\n",
    "\n",
    "\n",
    "A function can be created that takes in an rgb value and returns the inverted rgb color.\n",
    "\n",
    "To invert colors, subtract each rgb value from 255.\n",
    "\n",
    "The function looks something like this:\n",
    "\n",
    "@function sassInvert($r, $g, $b) {\n",
    "\n",
    "\t$newColor: rgb(255 - $r, 255 - $g, 255 - $b);\n",
    "\n",
    "\t@return $newColor;\n",
    "\n",
    "}\n",
    "\n",
    "\n",
    "Functions are called by specifying the function name with parenthesis. Inside the parenthesis, you can specify the arguments.\n",
    "\n",
    "For instance, the invert selector looks like this:\n",
    "\n",
    ".invert {\n",
    "\n",
    "\tbackground-color: sassInvert(0, 0, 0);\n",
    "\n",
    "\tcolor: sassInvert(211,202,202);\n",
    "\n",
    "}\n"
   ]
  },
  {
   "attachments": {},
   "cell_type": "markdown",
   "metadata": {},
   "source": [
    "# Import\n",
    "\n",
    "There is a way to split your code into multiple files and import them into one file.\n",
    "\n",
    "For instance, to put the styling for function.html in another SASS file, first create a directory called _sass.\n",
    "\n",
    "Within the directory, create another SASS file. In this case, the file is called functionStyle.scss\n",
    "\n",
    "Write your SASS code in that file. Once you are finished, switch back to style.scss and import the file with @import \"file-name\"\n",
    "\n",
    "For instance, to import the functionStyle.scss file into style.scss , the import statement would be @import \"functionStyle\"."
   ]
  },
  {
   "attachments": {},
   "cell_type": "markdown",
   "metadata": {},
   "source": [
    "# SASS Hacks\n",
    "\n",
    "1. Take notes and complete the mini-hacks. (0.9)\n",
    "\n",
    "2. Complete the [quiz questions](https://lwu1822.github.io/sassy_squad/quizQuestions) and provide your answers in this notebook. (0.9)\n",
    "\n",
    "3. Use SASS to create something that uses either extend or mixin. (0.9)\n",
    "\n",
    "4. Extra credit: Research other SASS features and blog about what you learned or add to your SASS project with any extra features not covered in this lesson. More points will be given if both are done."
   ]
  },
  {
   "attachments": {},
   "cell_type": "markdown",
   "metadata": {},
   "source": [
    "1. b. A scripting language that has many styling operations\n",
    "2. a. They are very similar in their function, but their syntax is slightly different\n",
    "3. a. SASS has more functions than CSS\n",
    "4. b. Syntactically Awesome Style Sheets\n",
    "5. d. Compute\n",
    "6. b. Extend\n",
    "7. I'm not sure because the question doesn't make much sense. I'm guessing d. Token"
   ]
  },
  {
   "attachments": {},
   "cell_type": "markdown",
   "metadata": {},
   "source": [
    "// Define a mixin to create a gradient background\n",
    "\n",
    "@mixin gradient-background($start-color, $end-color) {\n",
    "\n",
    "  background: $start-color;\n",
    "\n",
    "  background: linear-gradient(to bottom, $start-color 0%, $end-color 100%);\n",
    "\n",
    "}\n",
    "\n",
    "// Use the mixin to create a class with a blue-to-purple gradient background\n",
    "\n",
    ".gradient-box {\n",
    "\n",
    "  @include gradient-background(#4a89dc, #8e44ad);\n",
    "\n",
    "  padding: 20px;\n",
    "\n",
    "  border-radius: 5px;\n",
    "\n",
    "  color: #fff;\n",
    "  \n",
    "}\n"
   ]
  }
 ],
 "metadata": {
  "kernelspec": {
   "display_name": "base",
   "language": "python",
   "name": "python3"
  },
  "language_info": {
   "codemirror_mode": {
    "name": "ipython",
    "version": 3
   },
   "file_extension": ".py",
   "mimetype": "text/x-python",
   "name": "python",
   "nbconvert_exporter": "python",
   "pygments_lexer": "ipython3",
   "version": "3.9.12"
  },
  "orig_nbformat": 4
 },
 "nbformat": 4,
 "nbformat_minor": 2
}
