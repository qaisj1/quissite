{
 "cells": [
  {
   "attachments": {},
   "cell_type": "markdown",
   "metadata": {},
   "source": [
    "# Beneficial and Harmful Effects of Computing\n",
    "\n",
    "- toc: true \n",
    "- badges: true\n",
    "- comments: true\n",
    "- categories: [jupyter]"
   ]
  },
  {
   "attachments": {},
   "cell_type": "markdown",
   "metadata": {},
   "source": [
    "## Come up with three of your own Beneficial and Corresponding Harmful Effects of Computing.\n",
    "- Beneficial Effect: Increased productivity and efficiency through automation of tasks and access to vast amounts of information.\n",
    "- Harmful Effect: Dependence on technology leading to loss of important job skills and a decrease in critical thinking.\n",
    "\n",
    "- Beneficial Effect: Improved communication and connectivity through the use of social media and other online platforms.\n",
    "- Harmful Effect: Increased spread of misinformation and potential for cyberbullying and online harassment.\n",
    "\n",
    "- Beneficial Effect: Advancements in medical technology and research through the use of computing and data analysis.\n",
    "- Harmful Effect: Privacy concerns and potential for discrimination based on genetic or health information stored in digital databases."
   ]
  },
  {
   "attachments": {},
   "cell_type": "markdown",
   "metadata": {},
   "source": [
    "## Talk about dopamine issues above. Real? Parent conspiracy? Anything that is impacting your personal study and success in High School?\n",
    "\n",
    "Dopamine is a neurotransmitter that plays a crucial role in the brain's reward and motivation system. Research has shown that imbalances in dopamine levels can contribute to a variety of mental health disorders, including ADHD, depression, and addiction. I think that it is important to know that these disorders are complex and are likely caused by a combination of genetic, environmental, and lifestyle factors. When achieving something in school I feel less dopamine due to the fact that I am so used to the intake of dopamine from technology."
   ]
  },
  {
   "attachments": {},
   "cell_type": "markdown",
   "metadata": {},
   "source": [
    "## How does someone empower themself in a digital world?\n",
    "- Educate yourself about technology and the internet\n",
    "\n",
    "- Build a positive online presence\n",
    "\n",
    "- Learn new skills\n",
    "\n",
    "- Take control of your personal data\n"
   ]
  },
  {
   "attachments": {},
   "cell_type": "markdown",
   "metadata": {},
   "source": [
    "## How does someone that is empowered help someone that is not empowered? Describe something you could do at Del Norte HS.\n",
    "\n",
    "- An empowered individual can help someone who is not empowered by sharing their knowledge, skills, and resources by mentoring a student, creating a peer support group, volunteering in the classroom like Theo, and by sharing your experiences with people who faced or are facing the same problems as you."
   ]
  },
  {
   "attachments": {},
   "cell_type": "markdown",
   "metadata": {},
   "source": [
    "## Is paper or red tape blocking digital empowerment? Are there such barriers at Del Norte? Elsewhere?\n",
    "\n",
    "- I don't really understand this question but I definetly think there are some rules which limit people from gaining digital power. Some of the barriers at Del Norte, I think involve limited access to training, support, and website (blocked by the school)"
   ]
  }
 ],
 "metadata": {
  "kernelspec": {
   "display_name": "base",
   "language": "python",
   "name": "python3"
  },
  "language_info": {
   "name": "python",
   "version": "3.9.12 (main, Apr  5 2022, 06:56:58) \n[GCC 7.5.0]"
  },
  "orig_nbformat": 4,
  "vscode": {
   "interpreter": {
    "hash": "02dcd04116fff8c86cf53aae07e9cbbb0eecf269f918bf5b4fc9cd3d0ec07c99"
   }
  }
 },
 "nbformat": 4,
 "nbformat_minor": 2
}
