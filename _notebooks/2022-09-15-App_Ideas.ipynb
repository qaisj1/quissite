{
 "cells": [
  {
   "cell_type": "markdown",
   "metadata": {},
   "source": [
    "# App Ideas\n",
    "> Some ideas for an app.\n",
    "\n",
    "- toc: true \n",
    "- badges: true\n",
    "- comments: true\n",
    "- categories: [jupyter]"
   ]
  },
  {
   "cell_type": "markdown",
   "metadata": {},
   "source": [
    "An idea me and Mati have for an app is to create a game. A game which involves a 2 by 2 snake. The snake will increase everytime it touches a red block. You can control the snake with 4 buttons. You can use the up arrow, down arrow, left arrow, and right arrow as inputs.If the snake hits a border the player ultimately loses the game. The twist to the game is that there is no limit for how large you can get. You will keep growing until you hit yourself or one of the borders. The snake game fits the criteria because it has functioning inputs and outputs. The game has a loop which is what happens when you lose. You are able to go back to the start of the game. When you lose the game your highscore is kept on a dictionary which shows you your most recent and your highest score. Snake also has the prodcedural abstraction which is what happens when you click the start. The game also features sequencing when you lose the game it lets you restart. Input and output is part of the testing too. Startimg the game and restarting. Also moving the snake with the buttons. The purpose of the game is to cure boredom and make the world a better place.\n"
   ]
  }
 ],
 "metadata": {
  "kernelspec": {
   "display_name": "Python 3.9.12 ('base')",
   "language": "python",
   "name": "python3"
  },
  "language_info": {
   "name": "python",
   "version": "3.9.12"
  },
  "orig_nbformat": 4,
  "vscode": {
   "interpreter": {
    "hash": "02dcd04116fff8c86cf53aae07e9cbbb0eecf269f918bf5b4fc9cd3d0ec07c99"
   }
  }
 },
 "nbformat": 4,
 "nbformat_minor": 2
}
