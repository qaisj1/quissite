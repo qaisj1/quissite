{
 "cells": [
  {
   "attachments": {},
   "cell_type": "markdown",
   "metadata": {},
   "source": [
    "# Performance Task Scoring 3\n",
    "\n",
    "- toc: true \n",
    "- badges: true\n",
    "- comments: true\n",
    "- categories: [jupyter]"
   ]
  },
  {
   "attachments": {},
   "cell_type": "markdown",
   "metadata": {},
   "source": [
    "## Submission 1\n",
    "\n",
    "| Reporting Category          | Score              | Student Comments   | \n",
    "|-----------                  | -----------        | ------------------ |\n",
    "|Program Purpose and Function |          1         | Program purpose, functionality, input, and output are clearly given. \n",
    "|Data Abstraction             |          0         | 2 of 3 criteria is not met. Both code segments are provided, but second segmentis not acessing data from the list.\n",
    "|Managing Complexity          |          0         | Does not manage the complexity.\n",
    "|Procedural Abstraction       |          0         | Missing data abstraction and complexity management. The parameter passes through the series of If, Else if statements and results in a different output depending on both the user’s input and the computer’s input.\n",
    "|Algorithm Implementation     |          1         | Loop, iteration and sequencing is provided. CLearly explains program so it can be remade. \n",
    "|Testing                      |          1         | Two calls are described. Each condition is tested and the results are described.\n"
   ]
  },
  {
   "attachments": {},
   "cell_type": "markdown",
   "metadata": {},
   "source": [
    "## Submission 2\n",
    "\n",
    "| Reporting Category          | Score              | Student comments          | \n",
    "|-----------                  | -----------        | ------------------        |\n",
    "|Program Purpose and Function |          1         | Program purpose, functionality, input, and output are clearly given. \n",
    "|Data Abstraction             |          1         | Program segments are shown, the list variable is identified, and the data of the list is used in the program.\n",
    "|Managing Complexity          |          1         | Program had a list being used to manage complexity. Explained how the program uses the list.\n",
    "|Procedural Abstraction       |          1         | Student developed procedure.\n",
    "|Algorithm Implementation     |          1         | Loop, iteration and sequencing is provided and could be recreated.\n",
    "|Testing                      |          1         | Two calls are described. Output clearly shows the result.\n"
   ]
  },
  {
   "attachments": {},
   "cell_type": "markdown",
   "metadata": {},
   "source": [
    "## Submission 3\n",
    "\n",
    "| Reporting Category          | Score              | Student comments          | \n",
    "|-----------                  | -----------        | ------------------        |\n",
    "|Program Purpose and Function |          1         | Program purpose, functionality, input, and output are clearly given. \n",
    "|Data Abstraction             |          0         | No criteria met.\n",
    "|Managing Complexity          |          0         | Manages complexity but not effectively and did not explain how.\n",
    "|Procedural Abstraction       |          0         | Student developed procedure, but lacks data.\n",
    "|Algorithm Implementation     |          0         | No iteration included.\n",
    "|Testing                      |          0         | No calls.\n"
   ]
  },
  {
   "attachments": {},
   "cell_type": "markdown",
   "metadata": {},
   "source": [
    "## Submission 4\n",
    "\n",
    "| Reporting Category          | Score              | Student comments          | \n",
    "|-----------                  | -----------        | ------------------        |\n",
    "|Program Purpose and Function |          1         | Program purpose, functionality, input, and output are clearly given. \n",
    "|Data Abstraction             |          1         | Program segments are provided as well as the list variable.\n",
    "|Managing Complexity          |          1         | Manages complexity and explains how other ways to manage. \n",
    "|Procedural Abstraction       |          1         | Student developed procedure.\n",
    "|Algorithm Implementation     |          1         | Detailed enoguh to be recreated\n",
    "|Testing                      |          0         | Results from calls are not very good \n"
   ]
  }
 ],
 "metadata": {
  "kernelspec": {
   "display_name": "base",
   "language": "python",
   "name": "python3"
  },
  "language_info": {
   "name": "python",
   "version": "3.9.12 (main, Apr  5 2022, 06:56:58) \n[GCC 7.5.0]"
  },
  "orig_nbformat": 4,
  "vscode": {
   "interpreter": {
    "hash": "02dcd04116fff8c86cf53aae07e9cbbb0eecf269f918bf5b4fc9cd3d0ec07c99"
   }
  }
 },
 "nbformat": 4,
 "nbformat_minor": 2
}
