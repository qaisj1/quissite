{
 "cells": [
  {
   "attachments": {},
   "cell_type": "markdown",
   "metadata": {},
   "source": [
    "# Computing Bias and Crowd Sourcing Hacks\n",
    "\n",
    "- toc: true \n",
    "- badges: true\n",
    "- comments: true\n",
    "- categories: [jupyter]"
   ]
  },
  {
   "attachments": {},
   "cell_type": "markdown",
   "metadata": {},
   "source": [
    "## Crowd Sourcing Hacks \n",
    "\n",
    "Think of a use case for crowdsourcing in you project …\n",
    "\n",
    "CompSci has 150 ish principles students. Describe a crowdsource idea and how you might initiate it in our environment?\n",
    "What about Del Norte crowdsourcing? Could your project be better with crowdsourcing?\n",
    "What kind of data could you capture at N@tM to make evening interesting? Perhaps use this data to impress Teachers during finals week.\n",
    "\n",
    "- A potential use case for crowdsourcing in a computer science project would be to gather data on user preferences and opinions. For example, you could initiate a survey among the 150 students in the Principles of CompSci class to gather data on what topics they find most interesting. This data could then be used to tailor future lessons and assignments to better meet the needs and interests of the students.\n",
    "- As for Del Norte crowdsourcing, it depends on the specifics of your project. If your project involves collecting data from a large group of people, such as community feedback on a proposed development project, then crowdsourcing could definitely be beneficial.\n",
    "- For N@tM (Night at the Museum), you could use crowdsourcing to gather data on the most popular exhibits, activities, and events. This data could then be used to create a more engaging and personalized experience for visitors in the future. During finals week, you could present this data to teachers as evidence of the impact of your work, demonstrating the value and impact of N@tM on the community."
   ]
  },
  {
   "attachments": {},
   "cell_type": "markdown",
   "metadata": {},
   "source": [
    "## Computing Bias Hacks\n",
    "\n",
    "Write summary/thoughts/conclusions from each of the exercises above. Focus on avoiding Bias in algorithms or code you write.\n",
    "\n",
    "Google “What age groups use Facebook” vs “… TikTok”? What does the data say? Is there purposeful exclusion in these platforms? Is it harmful? Should it be corrected? Is it good business?\n",
    "\n",
    "- TikTok is more popular among younger generations, particularly teens and young adults. There is no purposeful exclusion in these platforms but the design and content that each platform offers caters to different age groups.\n",
    "- Whether this is harmful or not depends on personal perspective. I think that it could lead to age-based digital divide.\n",
    "\n",
    "Why do virtual assistants have female voices? Amazon, Alexa Google, Apple Siri. Was this purposeful? Is it harmful? Should it be corrected? Is it good business?\n",
    "\n",
    "- I think that virtual asistants have female voices because they are more aimed towards the male audience. People tend to prefer female voices for communication and find them more trustworthy aswell. I don't think its harmful because many companies feature male and female voices. It is good business because it allows a varitery of options.\n",
    "\n",
    "Talk about an algorithm that influences your decisions, think about these companies (ie FAANG - Facebook, Amazon, Apple,Netflix, Google)\n",
    "\n",
    "- Recommendation algorithim\n",
    "- For example, Amazon's recommendation algorithm suggests products based on the user's previous purchases, searches, and browsing history."
   ]
  }
 ],
 "metadata": {
  "kernelspec": {
   "display_name": "base",
   "language": "python",
   "name": "python3"
  },
  "language_info": {
   "name": "python",
   "version": "3.9.12 (main, Apr  5 2022, 06:56:58) \n[GCC 7.5.0]"
  },
  "orig_nbformat": 4,
  "vscode": {
   "interpreter": {
    "hash": "02dcd04116fff8c86cf53aae07e9cbbb0eecf269f918bf5b4fc9cd3d0ec07c99"
   }
  }
 },
 "nbformat": 4,
 "nbformat_minor": 2
}
