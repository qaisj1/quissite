{
 "cells": [
  {
   "attachments": {},
   "cell_type": "markdown",
   "metadata": {},
   "source": [
    "# Computing Bias and Crowd Sourcing Hacks\n",
    "\n",
    "- toc: true \n",
    "- badges: true\n",
    "- comments: true\n",
    "- categories: [jupyter]"
   ]
  },
  {
   "attachments": {},
   "cell_type": "markdown",
   "metadata": {},
   "source": [
    "## Crowd Sourcing Hacks \n",
    "\n",
    "Think of a use case for crowdsourcing in you project …\n",
    "\n",
    "CompSci has 150 ish principles students. Describe a crowdsource idea and how you might initiate it in our environment?\n",
    "What about Del Norte crowdsourcing? Could your project be better with crowdsourcing?\n",
    "What kind of data could you capture at N@tM to make evening interesting? Perhaps use this data to impress Teachers during finals week.\n",
    "\n",
    "- A use for crowdsourcing in a computer science project could be to gather data on user preferences and opinions. For example, you could provide a survey among th students in the class to gather data on what topics they find most interesting. This data could then be used to create future lessons and assignments to better meet the needs and interests of the students.\n",
    "- As for Del Norte crowdsourcing, it depends on the project. If the project involves collecting data from a large group of people, such as community feedback on a proposed development project, then crowdsourcing could definitely be beneficial.\n",
    "- For N@tM (Night at the Museum), you could use crowdsourcing to gather data on the most popular exhibits, activities, and events. This data could then be used to create a more engaging and personalized experience for visitors in the future. During finals week, you could present this data to teachers as evidence of the impact of your work, demonstrating the value and impact of N@tM on the community."
   ]
  },
  {
   "attachments": {},
   "cell_type": "markdown",
   "metadata": {},
   "source": [
    "## Computing Bias Hacks\n",
    "\n",
    "Write summary/thoughts/conclusions from each of the exercises above. Focus on avoiding Bias in algorithms or code you write.\n",
    "\n",
    "Google “What age groups use Facebook” vs “… TikTok”? What does the data say? Is there purposeful exclusion in these platforms? Is it harmful? Should it be corrected? Is it good business?\n",
    "\n",
    "- TikTok is more popular among younger generations, particularly teens and young adults. There is no purposeful exclusion in these platforms but the design and content that each platform offers caters to different age groups.\n",
    "- Whether this is harmful or not depends on personal perspective. I think that it could lead to age-based digital divide.\n",
    "\n",
    "Why do virtual assistants have female voices? Amazon, Alexa Google, Apple Siri. Was this purposeful? Is it harmful? Should it be corrected? Is it good business?\n",
    "\n",
    "- I think that virtual asistants have female voices because they are more aimed towards the male audience. People tend to prefer female voices for communication and find them more trustworthy aswell. I don't think its harmful because many companies feature male and female voices. It is good business because it allows a varitery of options.\n",
    "\n",
    "Talk about an algorithm that influences your decisions, think about these companies (ie FAANG - Facebook, Amazon, Apple,Netflix, Google)\n",
    "\n",
    "- Recommendation algorithim\n",
    "- For example, Amazon's recommendation algorithm suggests products based on the user's previous purchases, searches, and browsing history.\n",
    "\n",
    "Come up with some thoughts on the video and be ready to discuss them as I call on you. Here are some ideas…\n",
    "\n",
    "- Does the owner of the computer think this was intentional?\n",
    "Yes.\n",
    "- If yes or no, justify you conclusion.\n",
    "\n",
    "He calls the computer racist.\n",
    "- How do you think this happened?\n",
    "\n",
    "Not enough testing done, bad lighting, and maybe some racism (not sure).\n",
    "- Is this harmful? Was it intended to be harmful or exclude?\n",
    "\n",
    "It can be harmful for people of color because they may have spent a lot of money on the computer so they could use the feature. \n",
    "I'm not fully sure if it was an accident or not. I don't think they meant to exclude people of color.\n",
    "- Should it be corrected?\n",
    "\n",
    "Yes definetly.\n",
    "- What would you or should you do to produce a better outcome?\n",
    "\n",
    "Maybe make a program which is able to pick up peoples faces, skin color, hair, and other physical features better inorder to make the computure more inclusive."
   ]
  }
 ],
 "metadata": {
  "kernelspec": {
   "display_name": "base",
   "language": "python",
   "name": "python3"
  },
  "language_info": {
   "name": "python",
   "version": "3.9.12"
  },
  "orig_nbformat": 4,
  "vscode": {
   "interpreter": {
    "hash": "02dcd04116fff8c86cf53aae07e9cbbb0eecf269f918bf5b4fc9cd3d0ec07c99"
   }
  }
 },
 "nbformat": 4,
 "nbformat_minor": 2
}
