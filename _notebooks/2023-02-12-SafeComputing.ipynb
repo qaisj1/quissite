{
 "cells": [
  {
   "attachments": {},
   "cell_type": "markdown",
   "metadata": {},
   "source": [
    "# Beneficial and Harmful Effects of Computing\n",
    "\n",
    "- toc: true \n",
    "- badges: true\n",
    "- comments: true\n",
    "- categories: [jupyter]"
   ]
  },
  {
   "attachments": {},
   "cell_type": "markdown",
   "metadata": {},
   "source": [
    "## Safe Computing\n",
    "### Blog Post Reflection:\n",
    "\n",
    "- Describe PII you have seen on project in CompSci Principles.\n",
    "     - Name\n",
    "     - DOB\n",
    "     - Passwords \n",
    "\n",
    "- What are your feelings about PII and your personal exposure?\n",
    "     - I feel is if it should be taken seriously and not allowed. It is an invasion of privacy which can be avoided and applys to almost everyone. \n",
    "\n",
    "- Describe good and bad passwords? What is another step that is used to assist in authentication.\n",
    "     - Good password: Lowercase and upper case letters, numbers, symbols, something random, something you've never used before\n",
    "     - Bad password: Something special to you, something you've used on another website, simple word, no numbers or symbols\n",
    "\n",
    "- Try to describe Symmetric and Asymmetric encryption.\n",
    "     - Symmetric encryptions: Uses the same key for both encryption and decryption. Symmetric encryption is fast and efficien but the key has to be shared securely to ensure the privacy of the message.\n",
    "     - Asymmetric encryption: Uses two different keys for encryption and decryption. Public key is distributed to many people, while the private key must be kept secret.\n",
    "\n",
    "- Provide an example of encryption we used in AWS deployment.\n",
    "     - Simple Key Management Service (KMS): We could encrypt sensitive data stored in Amazon buckets. With KMS, you can create and manage encryption keys that are used to encrypt data.\n",
    "\n",
    "- Describe a phishing scheme you have learned about the hard way. Describe some other phishing techniques.\n",
    "     - Clicking sketchy links\n",
    "     - Typing in personal information on website\n",
    "     - Email spoofing\n",
    "     - Fake websites"
   ]
  },
  {
   "attachments": {},
   "cell_type": "markdown",
   "metadata": {},
   "source": [
    "## Legal and Ethical Concerns\n",
    "## Blog Post Reflection\n",
    "\n",
    " When you create a GitHub repository it requests a license type. Review the license types in relationship to this Tech Talk and make some notes in your personal blog.\n",
    " In your blog, summarize the discussions and personal analysis on Software Licenses/Options, Digital Rights, and other Legal and Ethical thoughts from this College Board topic.\n",
    " Make a license for your personal (blog) and Team repositories for the CPT project. Be sure to have a license for both Team GitHub repositories (frontend/backend). Document license(s) you picked and why. FYI, frontend, since it is built on GitHub pages may come with a license and restrictions. Document in blog how team made license choice and process of update.\n",
    "\n",
    "- When creating a GitHub repository, it is important I choose a license that meets the specific needs and requirements of the project. I think that an Open Source GPL license would be best because it allows me to make the project public. \n",
    "\n",
    "- In general, I would say that it is important to choose a license that protects the rights of the creators of the project but also the users. I would want the license to grant freedom to both the creators and users.\n",
    "\n",
    "- We should consider the goals and objectives of the project in order to make the decision of what license we use. We should keep in mind any legal and ethical considerations that may impact the use of the code. Choosing a software license for a GitHub repository is an important step in protecting the rights of the creators and users of the software.\n",
    "\n"
   ]
<<<<<<< HEAD
=======
  },
  {
   "attachments": {},
   "cell_type": "markdown",
   "metadata": {},
   "source": [
    "![license]({{site.baseurl}}/images/license.JPG)"
   ]
>>>>>>> parent of b9a6105... qwer
  }
 ],
 "metadata": {
  "kernelspec": {
   "display_name": "base",
   "language": "python",
   "name": "python3"
  },
  "language_info": {
   "name": "python",
   "version": "3.9.12"
  },
  "orig_nbformat": 4,
  "vscode": {
   "interpreter": {
    "hash": "02dcd04116fff8c86cf53aae07e9cbbb0eecf269f918bf5b4fc9cd3d0ec07c99"
   }
  }
 },
 "nbformat": 4,
 "nbformat_minor": 2
}
