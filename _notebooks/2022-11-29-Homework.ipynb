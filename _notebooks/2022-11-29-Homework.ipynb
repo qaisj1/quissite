{
 "cells": [
  {
   "cell_type": "markdown",
   "metadata": {},
   "source": [
    "# 3.3 - 4 Lessons Homework\n",
    "\n",
    "\n",
    "- toc: true \n",
    "- badges: true\n",
    "- comments: true\n",
    "- categories: [jupyter]"
   ]
  },
  {
   "cell_type": "markdown",
   "metadata": {},
   "source": [
    "### 3.3 Video 1 Hacks\n",
    "Show two examples and label which one is sequence, selection, iteration"
   ]
  },
  {
   "cell_type": "code",
   "execution_count": 13,
   "metadata": {},
   "outputs": [
    {
     "name": "stdout",
     "output_type": "stream",
     "text": [
      "[0, 2, 4, 6, 8, 10]\n"
     ]
    }
   ],
   "source": [
    "numbers = [0,1,2,3,4,5,6,7,8,9,10]\n",
    "evens = []\n",
    "\n",
    "for i in numbers:\n",
    "    if (numbers[i] % 2 == 0):\n",
    "        evens.append(numbers[i])\n",
    "print(evens)"
   ]
  },
  {
   "cell_type": "markdown",
   "metadata": {},
   "source": [
    "### Answers 1\n",
    "All the steps combined are sequencing\n",
    "\n",
    "The step \"for i in numbers:\" is iteration because they go through all the numbers.\n",
    "\n",
    "\"if (numbers[i] % 2 == 0)\" is selection because they sort each number to find the even ones.\n",
    "\n"
   ]
  },
  {
   "cell_type": "code",
   "execution_count": 14,
   "metadata": {},
   "outputs": [
    {
     "name": "stdout",
     "output_type": "stream",
     "text": [
      "*\n",
      "**\n",
      "***\n",
      "****\n",
      "*****\n"
     ]
    }
   ],
   "source": [
    "i = 1\n",
    "starString = \"*\"\n",
    "while i <= 5:\n",
    "  j = 1\n",
    "  while j <= i:\n",
    "    print (\"*\", end= \"\")\n",
    "    j += 1\n",
    "  print ()\n",
    "  i += 1"
   ]
  },
  {
   "cell_type": "markdown",
   "metadata": {},
   "source": [
    "### Answers 2\n",
    "All the steps are a sequence\n",
    "\n",
    "\"While i <= 5:\" is iteration because they repeat until i reaches 5\n",
    "\n",
    "\"While j <= i:\" is selection because this is where they decide what j is\n",
    "\n",
    "### 3.3 Video 2 Hacks\n",
    "Practice Problems\n",
    "given the following code segment below:\n",
    "a ⟵ 7\n",
    "\n",
    "b ⟵ 1\n",
    "\n",
    "c ⟵ 3\n",
    "\n",
    "d ⟵ 4\n",
    "\n",
    "a ⟵ b\n",
    "\n",
    "b ⟵ c + d\n",
    "\n",
    "d ⟵ b\n",
    "\n",
    "find the value for a, b, c, d\n",
    "\n",
    "a = 1, b = 7, c = 3, d = 7\n",
    "\n",
    "consider the following code segment:\n",
    "hot ⟵ true\n",
    "\n",
    "cold ⟵ false\n",
    "\n",
    "cold ⟵ hot\n",
    "\n",
    "hot ⟵ cold\n",
    "\n",
    "what are the values of hot and cold after executing the code segment?\n",
    "\n",
    "the value of hot is true, the value of cold is true\n",
    "the value of hot is false, the value of cold is true\n",
    "the value of hot is true, the value of cold is false\n",
    "the value of hot is false, the value of cold is false\n",
    "1. the value of hot is true, the value of cold is true\n",
    "\n",
    "Make TWO of your own code segments that contain at least 5 defined variables, then provide the answer and EXPLAIN why your answer is correct.\n",
    "\n",
    "Sequencing"
   ]
  },
  {
   "cell_type": "code",
   "execution_count": 15,
   "metadata": {},
   "outputs": [],
   "source": [
    "num1 = 3\n",
    "num2 = 1\n",
    "num3 = 5\n",
    "num1 = num2 + num3      \n",
    "num2 = num1 + num3      # num2 is now the new num1 + num3"
   ]
  },
  {
   "cell_type": "markdown",
   "metadata": {},
   "source": [
    "##### What is the value of num1 and num2?\n",
    "num1 = 6, num2 = 11"
   ]
  },
  {
   "cell_type": "markdown",
   "metadata": {},
   "source": [
    "### 3.3 Video 3 Hacks"
   ]
  },
  {
   "cell_type": "markdown",
   "metadata": {},
   "source": [
    "### 3.4 Video 1 Hacks\n",
    "### String Homework\n",
    "#### Test 1"
   ]
  },
  {
   "cell_type": "markdown",
   "metadata": {},
   "source": [
    "firstName <- \"Bob\"\\\n",
    "lastName <- \"Smith\"\\\n",
    "var <- substring(firstName, 1, 1)\\\n",
    "name <- concat(lastName, var)\\\n",
    "email <- concat(name, \"@gmail.com\")\n",
    "DISPLAY(email)"
   ]
  },
  {
   "cell_type": "markdown",
   "metadata": {},
   "source": [
    "What would the result be?\n",
    "SmithB@gmail.com\n",
    "Hint: var = \"B\" name = \"SmithB\""
   ]
  },
  {
   "cell_type": "markdown",
   "metadata": {},
   "source": [
    "#### Test 2\n",
    "\n",
    "word1 <- \"computer\"\\\n",
    "word2 <- \"textbooks\"\n",
    "length1 <- len(word1)/2\\\n",
    "length2 <- len(word2)/3\n",
    "first <- substring(word1, 2, len1)\\\n",
    "second <- substring(word2, len2+3, len2)\n",
    "newWord <- concat(first, second)\\\n",
    "DISPLAY(newWord)\n",
    "\n",
    "Result: ompuook\n",
    "Length 1 is 4\n",
    "Length 2 is 3\n",
    "\n"
   ]
  }
 ],
 "metadata": {
  "kernelspec": {
   "display_name": "Python 3.9.12 ('base')",
   "language": "python",
   "name": "python3"
  },
  "language_info": {
   "codemirror_mode": {
    "name": "ipython",
    "version": 3
   },
   "file_extension": ".py",
   "mimetype": "text/x-python",
   "name": "python",
   "nbconvert_exporter": "python",
   "pygments_lexer": "ipython3",
   "version": "3.9.12 (main, Apr  5 2022, 06:56:58) \n[GCC 7.5.0]"
  },
  "orig_nbformat": 4,
  "vscode": {
   "interpreter": {
    "hash": "02dcd04116fff8c86cf53aae07e9cbbb0eecf269f918bf5b4fc9cd3d0ec07c99"
   }
  }
 },
 "nbformat": 4,
 "nbformat_minor": 2
}
