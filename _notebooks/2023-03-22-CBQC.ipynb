{
 "cells": [
  {
   "attachments": {},
   "cell_type": "markdown",
   "metadata": {},
   "source": [
    "#  College Board Quiz 03/22/2023\n",
    "- toc: true\n",
    "- image: /images/CBQC.png\n",
    "- categories: []\n",
    "- type: ap\n",
    "- week: 26"
   ]
  },
  {
   "attachments": {},
   "cell_type": "markdown",
   "metadata": {},
   "source": [
    "![CBQC](images/CBQC.png)"
   ]
  },
  {
   "attachments": {},
   "cell_type": "markdown",
   "metadata": {},
   "source": [
    "## Questions I Got Wrong:\n",
    "\n",
    "### Question 21"
   ]
  },
  {
   "attachments": {},
   "cell_type": "markdown",
   "metadata": {},
   "source": [
    "![CBQC1](images/CBQC1.png)"
   ]
  },
  {
   "attachments": {},
   "cell_type": "markdown",
   "metadata": {},
   "source": [
    "![Tanay](images/Tanay.png)"
   ]
  },
  {
   "attachments": {},
   "cell_type": "markdown",
   "metadata": {},
   "source": [
    "#### What I Answered:\n",
    "B,C\n",
    "\n",
    "#### Correct Answer:\n",
    "B,D"
   ]
  },
  {
   "attachments": {},
   "cell_type": "markdown",
   "metadata": {},
   "source": [
    "## Reflection\n",
    "\n",
    "Honestly I wasn't expecting to get this good of a grade. I usually get like 70-80%. I think these questions were pretty straight forward and simple unlike some other questions which were on the other quizzes. This quiz was also a lot less stressful because it was less questions meaning it takes less time to answser all the questions. \n"
   ]
  }
 ],
 "metadata": {
  "language_info": {
   "name": "python"
  },
  "orig_nbformat": 4
 },
 "nbformat": 4,
 "nbformat_minor": 2
}
