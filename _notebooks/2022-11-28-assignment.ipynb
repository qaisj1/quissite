{
 "cells": [
  {
   "cell_type": "markdown",
   "metadata": {},
   "source": [
    "# Unit 3 Sections 5-7 Hacks\n",
    "> Hacks\n",
    "\n",
    "- toc: true\n",
    "- badges: true\n",
    "- comments: true\n",
    "- categories: [csp]"
   ]
  },
  {
   "cell_type": "markdown",
   "metadata": {},
   "source": [
    "For hacks, <mark>make a copy of this notebook and answer the questions or complete the code</mark>, as described in comments. Additionally, <mark>blog about any missed questions</mark>, or what you learned from this lesson."
   ]
  },
  {
   "cell_type": "markdown",
   "metadata": {},
   "source": [
    "# 3.5 Hacks\n",
    "\n",
    "## Binary Practice\n",
    "Using psuedocode operators determine if the statements are true or false. The number type will be indicated in parentheses.\n",
    "\n",
    "**1. 90(D) = 1000(B)**\n",
    "\n",
    "- A. True\n",
    "- B. <mark>False<mark>\n",
    "\n",
    "**2. 10(D) ≠ 0110(B)**\n",
    "\n",
    "- A. <mark>True<mark>\n",
    "- B. False\n",
    "\n",
    "**3. 56(D) ≥ 111000(B)**\n",
    "\n",
    "- A. <mark>True<mark>\n",
    "- B. False\n",
    "\n",
    "**3. 99(D) < 1110011(B)**\n",
    "\n",
    "- A. <mark>True<mark>\n",
    "- B. False"
   ]
  },
  {
   "cell_type": "markdown",
   "metadata": {},
   "source": [
    "Now, complete the binary truth tables"
   ]
  },
  {
   "cell_type": "markdown",
   "metadata": {},
   "source": [
    "<html>\n",
    "<style>\n",
    "    table, th, td { \n",
    "        border:2px solid white;\n",
    "    }\n",
    "</style>\n",
    "    <div>AND Operator</div>\n",
    "    <div>\n",
    "        <table>\n",
    "            <tr>\n",
    "                <th>Value 1</th>\n",
    "                <th>Value 2</th>\n",
    "                <th>Result</th>\n",
    "            </tr>\n",
    "            <tr>\n",
    "                <td>1</td>\n",
    "                <td>True</td>\n",
    "                <td>1</td>\n",
    "            </tr>\n",
    "            <tr>\n",
    "                <td>True</td>\n",
    "                <td>0</td>\n",
    "                <td>1</td>\n",
    "            </tr>\n",
    "            <tr>\n",
    "                <td>False</td>\n",
    "                <td>1</td>\n",
    "                <td>0</td>\n",
    "            </tr>\n",
    "            <tr>\n",
    "                <td>0</td>\n",
    "                <td>False</td>\n",
    "                <td>0</td>\n",
    "            </tr>\n",
    "        </table>\n",
    "    </div>\n",
    "    <div>OR Operator</div>\n",
    "    <div>\n",
    "        <table>\n",
    "            <tr>\n",
    "                <th>Value 1</th>\n",
    "                <th>Value 2</th>\n",
    "                <th>Result</th>\n",
    "            </tr>\n",
    "            <tr>\n",
    "                <td>1</td>\n",
    "                <td>1</td>\n",
    "                <td>True</td>\n",
    "            </tr>\n",
    "            <tr>\n",
    "                <td>1</td>\n",
    "                <td>0</td>\n",
    "                <td>False</td>\n",
    "            </tr>\n",
    "            <tr>\n",
    "                <td>0</td>\n",
    "                <td>False</td>\n",
    "                <td>0</td>\n",
    "            </tr>\n",
    "            <tr>\n",
    "                <td>0</td>\n",
    "                <td>0</td>\n",
    "                <td>False</td>\n",
    "            </tr>\n",
    "        </table>\n",
    "    </div>\n",
    "    <div>Not operator</div>\n",
    "    <div>\n",
    "        <table>\n",
    "            <tr>\n",
    "                <th>Not</th>\n",
    "                <th>Value</th>\n",
    "                <th>Result</th>\n",
    "            </tr>\n",
    "            <tr>\n",
    "                <td>Not</td>\n",
    "                <td>BLANK</td>\n",
    "                <td>0</td>\n",
    "            </tr>\n",
    "            <tr>\n",
    "                <td>Not</td>\n",
    "                <td>0</td>\n",
    "                <td>BLANK</td>\n",
    "            </tr>\n",
    "        </table>\n",
    "    </div>\n",
    "</html>"
   ]
  },
  {
   "cell_type": "markdown",
   "metadata": {},
   "source": [
    "## Python Practice"
   ]
  },
  {
   "cell_type": "code",
   "execution_count": 50,
   "metadata": {},
   "outputs": [
    {
     "name": "stdout",
     "output_type": "stream",
     "text": [
      "True\n",
      "True\n",
      "True\n"
     ]
    }
   ],
   "source": [
    "# Testing out relational operators\n",
    "# Practice with these statements\n",
    "\n",
    "print(20 == 20) # How can you change the operator to print a value of False? By changing the sign.\n",
    "\n",
    "\n",
    "x = 40\n",
    "y = 20\n",
    "z = 10\n",
    "print(x > y + z) # How can this return true by only manipulating the operator? Change the x, y, and z value in order to make the sum of Y and Z equal to X.\n",
    "\n",
    "# Manipulate the variables x, y, and z to make the below statement return true\n",
    "print(30 == 30)"
   ]
  },
  {
   "cell_type": "markdown",
   "metadata": {},
   "source": [
    "# 3.6 Hacks\n",
    "\n",
    "## AP Prep\n",
    "\n",
    "**1. What is displayed by this code?**\n",
    "- result <-- 75\n",
    "- IF result < 80 {\n",
    "    DISPLAY(\"Please schedule a retake.\")\n",
    "}\n",
    "- ELSE {\n",
    "    DISPLAY(\"Nice job!\")\n",
    "}\n",
    "\n",
    "1. Nice job!\n",
    "2. Display\n",
    "3. <mark>Please schedule a retake.<mark>\n",
    "4. 75\n",
    "\n",
    "**2. How is an if statement different from an if-else statement.**\n",
    "\n",
    "1. Extra words.\n",
    "2. <mark>An if statement will only go through a process if a condition is met. An if-else statement will go through code no matter the conditions.<mark>\n",
    "3. They are the exact same.\n",
    "4. An if statement will go through the entire code segment every single time and the if-else statement is always used in an algorithm, no matter the conditions.\n",
    "\n",
    "**3. What would be most appropriate for this situation? Ben wants to check his bank account. If his car fuel is full, he will go to the bank. Otherwise, he will go home. If he goes to the bank, he will withdraw money only if his balance is above $1000.**\n",
    "\n",
    "1. If statement\n",
    "2. <mark>If-else statement<mark>\n",
    "\n",
    "**4. What would be most appropriate for this situation? Luke wants to play basketball. If it is sunny outside he will go to the park to play basketball.**\n",
    "\n",
    "1. <mark>If statement<mark>\n",
    "2. If-else statement\n",
    "\n",
    "## Using Python"
   ]
  },
  {
   "cell_type": "code",
   "execution_count": 66,
   "metadata": {},
   "outputs": [
    {
     "name": "stdout",
     "output_type": "stream",
     "text": [
      "lion Fun Fact: They live in the desert\n",
      "wildebeest Fun Fact: They live in the desert\n"
     ]
    }
   ],
   "source": [
    "animals = [\"lion\", \"tiger\", \"wildebeest\", \"shark\", \"jellyfish\", \"blobfish\", \"raven\"]\n",
    "\n",
    "for i in animals:\n",
    "    if i == \"wildebeest\" or i == \"lion\": \n",
    "        print (i  + \" Fun Fact: They live in the desert\")\n",
    "\n",
    "# Practice\n",
    "# Using only one more if statement, alter the code to print out a statement saying if an animal lives in the desert, based on booleans"
   ]
  },
  {
   "cell_type": "markdown",
   "metadata": {},
   "source": [
    "# 3.7 Hacks\n",
    "\n",
    "## Exercise 1\n",
    "- Create dictionaries for multiple food items, with the listed specifications\n",
    "    - Chicken Alfredo, Meat: Chicken, Time to Prepare: 60 minutes\n",
    "    - Cheese Quesadilla, Meat: None, Time to Prepare: 10 minutes\n",
    "    - Beef Wellington, Meat: Beef, Time to Prepare: 150 minutes\n",
    "- Used nested conditionals, determine which meal you can cook, given that a) you have no meat at home, and b) you only have 30 minutes to make the meal"
   ]
  },
  {
   "cell_type": "code",
   "execution_count": 63,
   "metadata": {},
   "outputs": [
    {
     "name": "stdout",
     "output_type": "stream",
     "text": [
      "{'Food Item: Chicken Alfredo Meat:Chicken Time to Prepare:60 Minutes'}\n",
      "{'Food Item: Cheese Quesadilla Meat:None Time to Prepare:10 Minutes'}\n",
      "{'Food Item: Beef Wellington Meat:Beef Time to Prepare:150 Minutes'}\n"
     ]
    }
   ],
   "source": [
    "Chickendict = {\n",
    "  \"Food Item:\" \" Chicken Alfredo\"\n",
    "  \" Meat:\" \"Chicken\"\n",
    "  \" Time to Prepare:\" \"60 Minutes\"\n",
    "}\n",
    "print (Chickendict)\n",
    "\n",
    "Cheesedict = {\n",
    "  \"Food Item:\" \" Cheese Quesadilla\"\n",
    "  \" Meat:\" \"None\"\n",
    "  \" Time to Prepare:\" \"10 Minutes\"\n",
    "}\n",
    "print (Cheesedict)\n",
    "\n",
    "Beefdict = {\n",
    "  \"Food Item:\" \" Beef Wellington\"\n",
    "  \" Meat:\" \"Beef\"\n",
    "  \" Time to Prepare:\" \"150 Minutes\"\n",
    "}\n",
    "print (Beefdict)\n"
   ]
  },
  {
   "cell_type": "markdown",
   "metadata": {},
   "source": [
    "## Exercise 2\n",
    "\n",
    "Make a flowchart([here](https://www.lucidchart.com/pages/examples/flowchart-maker) is one we used) and write pseudocode for the following scenario.\n",
    "- Mr. Yeung would like to grade live reviews. \n",
    "- He wants to see if each student has at least 2 issues on their project. If they don't they receive a score of 2.0.\n",
    "- If they have at least 2 issues, check that they have completed at least 5 of their scrumboard tasks.\n",
    "- If they have completed 5 scrumboard tasks, give the student a 2.7. If they have not completed 5 scrumboard tasks, give them a score of 2.5. If they have completed more than 5 tasks, give them a score of 3.0.\n",
    "- How much would a student with 3 issues and 1 complete scrumboard task receive?"
   ]
  }
 ],
 "metadata": {
  "kernelspec": {
   "display_name": "Python 3.9.12 ('base')",
   "language": "python",
   "name": "python3"
  },
  "language_info": {
   "codemirror_mode": {
    "name": "ipython",
    "version": 3
   },
   "file_extension": ".py",
   "mimetype": "text/x-python",
   "name": "python",
   "nbconvert_exporter": "python",
   "pygments_lexer": "ipython3",
   "version": "3.9.12"
  },
  "orig_nbformat": 4,
  "vscode": {
   "interpreter": {
    "hash": "02dcd04116fff8c86cf53aae07e9cbbb0eecf269f918bf5b4fc9cd3d0ec07c99"
   }
  }
 },
 "nbformat": 4,
 "nbformat_minor": 2
}
