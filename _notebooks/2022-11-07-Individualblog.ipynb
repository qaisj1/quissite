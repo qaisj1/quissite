{
 "cells": [
  {
   "cell_type": "markdown",
   "metadata": {},
   "source": [
    "# Night at the Museum \n",
    "\n",
    "\n",
    "- toc: true \n",
    "- badges: true\n",
    "- comments: true\n",
    "- categories: [jupyter]"
   ]
  },
  {
   "cell_type": "markdown",
   "metadata": {},
   "source": [
    "## Classes I visited\n",
    "- I saw other computer science projects which were very different from my groups.\n",
    "- I visited the 3d animation class and saw my DevOp's Matiullah Danish's art piece.\n",
    "- I visited the ceramics class and saw many interesting sculptures. I took a few photos of them.\n",
    "---\n",
    "## Plans for next years project\n",
    " - Next year I plan to make a more useful project that involves more creativity and critical thinking. I would also like to make the project represent me more. \n"
   ]
  }
 ],
 "metadata": {
  "kernelspec": {
   "display_name": "Python 3.9.12 ('base')",
   "language": "python",
   "name": "python3"
  },
  "language_info": {
   "name": "python",
   "version": "3.9.12"
  },
  "orig_nbformat": 4,
  "vscode": {
   "interpreter": {
    "hash": "02dcd04116fff8c86cf53aae07e9cbbb0eecf269f918bf5b4fc9cd3d0ec07c99"
   }
  }
 },
 "nbformat": 4,
 "nbformat_minor": 2
}
