{
 "cells": [
  {
   "attachments": {},
   "cell_type": "markdown",
   "metadata": {},
   "source": [
    "# Grade Table\n",
    "\n",
    "\n",
    "- toc: true \n",
    "- badges: true\n",
    "- comments: true\n",
    "- categories: [jupyter]"
   ]
  },
  {
   "attachments": {},
   "cell_type": "markdown",
   "metadata": {},
   "source": [
    "|    Lesson   |    Grade    |\n",
    "|:-----------:|:-----------:|\n",
    "| 3.1 & 3.2   | .5/1        |\n",
    "| 3.3 & 3.4   | .9/1        |\n",
    "| 3.5 - 3.7   | 0.8/1       |\n",
    "| 3.8 & 3.10  | 0.7/1       |\n",
    "| 3.9 & 3.11  | .9/1        |\n",
    "| 3.12 & 3.13 | I presented |\n",
    "| 3.14 & 3.15 | 0.95/1      |\n",
    "| 3.16        | .9/1       |\n",
    "| 3.17 & 3.18 | .95/1       |"
   ]
  }
 ],
 "metadata": {
  "kernelspec": {
   "display_name": "base",
   "language": "python",
   "name": "python3"
  },
  "language_info": {
   "name": "python",
   "version": "3.9.12 (main, Apr  5 2022, 06:56:58) \n[GCC 7.5.0]"
  },
  "orig_nbformat": 4,
  "vscode": {
   "interpreter": {
    "hash": "02dcd04116fff8c86cf53aae07e9cbbb0eecf269f918bf5b4fc9cd3d0ec07c99"
   }
  }
 },
 "nbformat": 4,
 "nbformat_minor": 2
}
