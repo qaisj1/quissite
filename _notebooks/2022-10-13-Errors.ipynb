{
 "cells": [
  {
   "cell_type": "markdown",
   "metadata": {},
   "source": [
    "# Installation Checks\n",
    "\n",
    "\n",
    "- toc: true\n",
    "- comments: true\n",
    "- categories: [Jupyter]"
   ]
  },
  {
   "cell_type": "markdown",
   "metadata": {},
   "source": [
    "- What errors may arise in your project?\n",
    "    - Some error that may arise in our project is dictionary errors, api errors, and syntax errors. When they input a letter it may not be read correctly and place the letter in the wrong spot or it may not say that a correct letter is included in a word. \n",
    "\n",
    "- What are some test cases that can be used?\n",
    "    - We can test inputting some correct letters and some wrong letters. This will lead to our desired output. If we type in a wrong letter a body part will appear.\n",
    "\n",
    "- Make sure to document any bugs you encounter and how you solved the problem.\n",
    "    - I will document any errors I have and inform my team. \n",
    "\n",
    "- What are “single” tests that you will perform on your project? Or, your part of the project?\n",
    "    - I will first play the game for myself and then I will ask peers to review the game aswell. \n",
    "\n"
   ]
  }
 ],
 "metadata": {
  "kernelspec": {
   "display_name": "Python 3.9.12 ('base')",
   "language": "python",
   "name": "python3"
  },
  "language_info": {
   "name": "python",
   "version": "3.9.12"
  },
  "orig_nbformat": 4,
  "vscode": {
   "interpreter": {
    "hash": "02dcd04116fff8c86cf53aae07e9cbbb0eecf269f918bf5b4fc9cd3d0ec07c99"
   }
  }
 },
 "nbformat": 4,
 "nbformat_minor": 2
}
