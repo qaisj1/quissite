{
 "cells": [
  {
   "attachments": {},
   "cell_type": "markdown",
   "metadata": {},
   "source": [
    "#  Data Structures- Hashmaps, Sets, Hash Tables, Hashing and Collisions\n",
    "> Observing hashmaps with python dictionaries\n",
    "- toc: true\n",
    "- image: /images/python.png\n",
    "- categories: []\n",
    "- type: pbl\n",
    "- week: 28"
   ]
  },
  {
   "attachments": {},
   "cell_type": "markdown",
   "metadata": {},
   "source": [
    "## What is a Hashtable/Hashmap?\n",
    "\n",
    "> A hashtable is a data structure that with a collection of key-value pairs, where each key maps to a value, and the keys must be unique and hashable.\n",
    "\n",
    "- In Python there is a built in hashtable known as a dictionary.\n",
    "\n",
    "> The primary purpose of a hashtable is to provide efficient lookup, insertion, and deletion operations. When an element is to be inserted into the hashtable, a hash function is used to map the key to a specific index in the underlying array that is used to store the key-value pairs. The value is then stored at that index. When searching for a value, the hash function is used again to find the index where the value is stored.\n",
    "\n",
    "> The key advantage of a hashtable over other data structures like arrays and linked lists is its average-case time complexity for lookup, insertion, and deletion operations.\n",
    "\n",
    "- The typical time complexity of a hashtable is O(1). \n"
   ]
  },
  {
   "attachments": {},
   "cell_type": "markdown",
   "metadata": {},
   "source": [
    "## What is Hashing and Collision?\n",
    "\n",
    "> Hashing is the process of mapping a given key to a value in a hash table or hashmap, using a hash function. The hash function takes the key as input and produces a hash value or hash code, which is then used to determine the index in the underlying array where the value is stored. The purpose of hashing is to provide a quick and efficient way to access data, by eliminating the need to search through an entire data structure to find a value.\n",
    "\n",
    "> However, it is possible for two different keys to map to the same hash value, resulting in a collision. When a collision occurs, there are different ways to resolve it, depending on the collision resolution strategy used.\n",
    "\n",
    "> Python's dictionary implementation is optimized to handle collisions efficiently, and the performance of the dictionary is generally very good, even in the presence of collisions. However, if the number of collisions is very high, the performance of the dictionary can degrade, so it is important to choose a good hash function that minimizes collisions when designing a Python dictionary.\n",
    "\n",
    "## What is a Set?"
   ]
  },
  {
   "cell_type": "code",
   "execution_count": 7,
   "metadata": {},
   "outputs": [
    {
     "name": "stdout",
     "output_type": "stream",
     "text": [
      "{1, 2, 3, -3}\n"
     ]
    }
   ],
   "source": [
    "# Creating a set using set() function\n",
    "my_set = set([-3, 2, 3, 2, 1])\n",
    "print(my_set)  \n",
    "\n",
    "# What do you notice in the output?\n",
    "# 3 numbers\n",
    "# prints the set of numbers provided\n",
    "# No repeating values\n",
    "\n",
    "# Why do you think Sets are in the same tech talk as Hashmaps/Hashtables?\n",
    "# Dictionaries can't have duplicates either\n",
    "#"
   ]
  },
  {
   "attachments": {},
   "cell_type": "markdown",
   "metadata": {},
   "source": [
    "## Dictionary Example\n",
    "\n",
    "Below are just some basic features of a dictionary. As always, documentation is always the main source for all the full capablilties. "
   ]
  },
  {
   "cell_type": "code",
   "execution_count": 2,
   "metadata": {},
   "outputs": [
    {
     "name": "stdout",
     "output_type": "stream",
     "text": [
      "{'NRL': 'Rugby', 'Number One Team': 'Melbourne Storm', 'Year': 2023, 'Teams': {1: 'Melbourne Storm', 2: 'South Sydney Rabbitohs', 3: 'Brisbane Broncos', 4: 'St. George Illawarra Dragons', 5: 'Manly-Warringah Sea Eagles'}}\n"
     ]
    }
   ],
   "source": [
    "rugby_teams = {\n",
    "    \"NRL\": \"Rugby\",\n",
    "    \"Number One Team\": \"Melbourne Storm\",\n",
    "    \"Year\": 2023,\n",
    "    \"Teams\": {\n",
    "        1: \"Melbourne Storm\",\n",
    "        2: \"South Sydney Rabbitohs\",\n",
    "        3: \"Brisbane Broncos\",\n",
    "        4: \"St. George Illawarra Dragons\",\n",
    "        5: \"Manly-Warringah Sea Eagles\",\n",
    "       \n",
    "    }\n",
    "}\n",
    "\n",
    "# What data structures do you see?\n",
    "# String, Dictionary, list, and integer\n",
    "# \n",
    "\n",
    "# Printing the dictionary\n",
    "print(rugby_teams)"
   ]
  },
  {
   "cell_type": "code",
   "execution_count": 6,
   "metadata": {},
   "outputs": [
    {
     "name": "stdout",
     "output_type": "stream",
     "text": [
      "{1: 'Melbourne Storm', 2: 'South Sydney Rabbitohs', 3: 'Brisbane Broncos', 4: 'St. George Illawarra Dragons', 5: 'Manly-Warringah Sea Eagles'}\n",
      "The Number One Team In 2023 is:\n",
      "Melbourne Storm\n"
     ]
    }
   ],
   "source": [
    "# Retrieve value from dictionary with key\n",
    "print(rugby_teams.get('Teams'))\n",
    "# or\n",
    "print(\"The Number One Team In 2023 is:\")\n",
    "print(rugby_teams['Number One Team'])"
   ]
  },
  {
   "cell_type": "code",
   "execution_count": 13,
   "metadata": {},
   "outputs": [
    {
     "name": "stdout",
     "output_type": "stream",
     "text": [
      "Melbourne Storm\n",
      "Manly-Warringah Sea Eagles\n"
     ]
    }
   ],
   "source": [
    "# Retrieve value from a dictionary inside a dictionary\n",
    "print(rugby_teams.get('Teams')[1])\n",
    "# or\n",
    "print(rugby_teams['Teams'][5])"
   ]
  },
  {
   "cell_type": "code",
   "execution_count": 14,
   "metadata": {},
   "outputs": [
    {
     "name": "stdout",
     "output_type": "stream",
     "text": [
      "{'NRL': 'Rugby', 'Number One Team': 'Melbourne Storm', 'Year': 2023, 'Teams': {1: 'Melbourne Storm', 2: 'South Sydney Rabbitohs', 3: 'Brisbane Broncos', 4: 'St. George Illawarra Dragons', 5: 'Manly-Warringah Sea Eagles'}, 'Best Player': ['Robbie Ross']}\n"
     ]
    }
   ],
   "source": [
    "# adding a value with a new key\n",
    "rugby_teams[\"Best Player\"] = (['Robbie Ross'])\n",
    "\n",
    "# What can you change to make sure there are no duplicate producers?\n",
    "# Use a set\n",
    "#\n",
    "\n",
    "# Printing the dictionary\n",
    "print(rugby_teams)"
   ]
  },
  {
   "cell_type": "code",
   "execution_count": 17,
   "metadata": {},
   "outputs": [
    {
     "name": "stdout",
     "output_type": "stream",
     "text": [
      "{'NRL': 'Rugby', 'Number One Team': 'Melbourne Storm', 'Year': 2023, 'Teams': {1: 'Melbourne Storm', 2: 'South Sydney Rabbitohs', 3: 'Brisbane Broncos', 4: 'St. George Illawarra Dragons', 5: 'Manly-Warringah Sea Eagles', 19: 'All Of The Girls You Loved Before', 6: 'Sydney Roosters'}, 'Best Player': ['Robbie Ross']}\n"
     ]
    }
   ],
   "source": [
    "# Adding a an key-value pair to an existing key \n",
    "rugby_teams[\"Teams\"].update({6: \"Sydney Roosters\"})\n",
    "\n",
    "# How would add an additional genre to the dictionary, like electropop? \n",
    "# \n",
    "# \n",
    "\n",
    "# Printing the dictionary\n",
    "print(rugby_teams)"
   ]
  },
  {
   "cell_type": "code",
   "execution_count": 18,
   "metadata": {},
   "outputs": [
    {
     "name": "stdout",
     "output_type": "stream",
     "text": [
      "NRL: Rugby\n",
      "Number One Team: Melbourne Storm\n",
      "Year: 2023\n",
      "Teams: {1: 'Melbourne Storm', 2: 'South Sydney Rabbitohs', 3: 'Brisbane Broncos', 4: 'St. George Illawarra Dragons', 5: 'Manly-Warringah Sea Eagles', 19: 'All Of The Girls You Loved Before', 6: 'Sydney Roosters'}\n",
      "Best Player: ['Robbie Ross']\n"
     ]
    }
   ],
   "source": [
    "# Print lover_album in more readable format\n",
    "for k,v in rugby_teams.items(): # iterate using a for loop for key and value\n",
    "    print(str(k) + \": \" + str(v))\n",
    "\n",
    "# Write your own code to print tracks in readable format\n",
    "#\n",
    "#"
   ]
  },
  {
   "cell_type": "code",
   "execution_count": 32,
   "metadata": {},
   "outputs": [
    {
     "name": "stdout",
     "output_type": "stream",
     "text": [
      "Robbie Ross\n"
     ]
    }
   ],
   "source": [
    "def search():\n",
    "    search = input(\"What would you like to know about the NRL?\")\n",
    "    if rugby_teams.get(search.lower()) == None :\n",
    "        print(\"Robbie Ross\")\n",
    "    else:\n",
    "        print(rugby_teams.get(search.lower()))\n",
    "\n",
    "search()\n",
    "\n",
    "# This is a very basic code segment, how can you improve upon this code?\n",
    "#\n",
    "#\n"
   ]
  },
  {
   "attachments": {},
   "cell_type": "markdown",
   "metadata": {},
   "source": [
    "## Hacks\n",
    "\n",
    "- Answer *ALL* questions in the code segments\n",
    "- Create a diagram or comparison illustration (Canva).\n",
    "    - What are the pro and cons of using this data structure? \n",
    "    - Dictionary vs List    \n",
    "- Expand upon the code given to you, possible improvements in comments\n",
    "- Build your own album showing features of a python dictionary\n",
    "\n",
    "- For Mr. Yeung's class: Justify your favorite Taylor Swift song, answer may effect seed\n",
    "    - I don't listen to Taylor Swift much. Love story is good."
   ]
  }
 ],
 "metadata": {
  "kernelspec": {
   "display_name": "base",
   "language": "python",
   "name": "python3"
  },
  "language_info": {
   "codemirror_mode": {
    "name": "ipython",
    "version": 3
   },
   "file_extension": ".py",
   "mimetype": "text/x-python",
   "name": "python",
   "nbconvert_exporter": "python",
   "pygments_lexer": "ipython3",
   "version": "3.9.12"
  },
  "orig_nbformat": 4,
  "vscode": {
   "interpreter": {
    "hash": "02dcd04116fff8c86cf53aae07e9cbbb0eecf269f918bf5b4fc9cd3d0ec07c99"
   }
  }
 },
 "nbformat": 4,
 "nbformat_minor": 2
}
