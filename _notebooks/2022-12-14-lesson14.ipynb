{
 "cells": [
  {
   "attachments": {},
   "cell_type": "markdown",
   "metadata": {},
   "source": [
    "# Lesson 14-15 Homework\n",
    "\n",
    "\n",
    "- toc: true \n",
    "- badges: true\n",
    "- comments: true\n",
    "- categories: [jupyter]"
   ]
  },
  {
   "attachments": {},
   "cell_type": "markdown",
   "metadata": {},
   "source": [
    "-----------------------------------------------------------------------------------------------------\n",
    "### Reflection\n",
    "This lesson was has taught me new ways I can improve my coding skills. I can use libraries to make coding a lot more simpl and use stuff that has already been developed by others. Documentation makes my code readable. Programs use documentation to outline usage for users. The random library can be used in python which can be very handy in programs. Most programs such as videogames use randomization.\n",
    "\n",
    "-----------------------------------------------------------------------------------------------------"
   ]
  },
  {
   "attachments": {},
   "cell_type": "markdown",
   "metadata": {},
   "source": [
    "## Notes\n",
    "\n",
    "- Libraries and prewritten code can make writing algorithms easier\n",
    "\n",
    "- Software libraries have procedures that are used in creating novel programs\n",
    "\n",
    "- APIs(application program interfaces) explain how procedures in libraries should behave and be utilized\n",
    "\n",
    "- Documentation makes it much easier to learn how to use libraries/APIs\n",
    "\n",
    "- Existing code segments can be derived from existing sources\n",
    "\n",
    "- random.randint(a, b): generates a random number\n",
    "--------------------------------------------------------------------------------------------------------------\n",
    "## Multiple Choice\n",
    "\n",
    "What does the random(a,b) function generate?\n",
    "\n",
    "A. A random integer from a to be exclusive\n",
    "\n",
    "<mark> B. A random integer from a to b inclusive. <mark>\n",
    "\n",
    "C. A random word from variable a to variable b exclusive.\n",
    "\n",
    "D. A random word from variable a to variable b inclusive.\n",
    "\n",
    "Explanation: B has the integers listed \n",
    "\n",
    "---------------------------------------------------------------------------------------\n",
    "\n",
    "What is x, y, and z in random.randrange(x, y, z)?\n",
    "\n",
    "A. x = start, y = stop, z = step\n",
    "\n",
    "<mark> B. x = start, y = step, z = stop <mark>\n",
    "\n",
    "C. x = stop, y = start, z = step\n",
    "\n",
    "D. x = step, y = start, z = stop\n",
    "\n",
    "------------------------------------------------------------------------------------\n",
    "\n",
    "Which of the following is NOT part of the random library?\n",
    "\n",
    "<mark> A. random.item <mark>\n",
    "\n",
    "B. random.random\n",
    "\n",
    "C. random.shuffle\n",
    "\n",
    "D. random.randint\n",
    "\n",
    "Explanation: The other options are specific functions\n",
    "\n",
    "----------------------------------------------------------------------------------\n",
    "\n",
    "## Short Answer Questions\n",
    "\n",
    "What is the advantage of using libraries?\n",
    "We can access code that as already been developed in order to make coding something such as an algorithm less difficult.\n",
    "\n",
    "-----------------------------------------------------------------------------------------------------------------------\n",
    "\n",
    "Write a thorough documentation of the following code."
   ]
  },
  {
   "cell_type": "code",
   "execution_count": 81,
   "metadata": {},
   "outputs": [
    {
     "name": "stdout",
     "output_type": "stream",
     "text": [
      " Jamili is going to buy the meal today!\n"
     ]
    }
   ],
   "source": [
    "import random \n",
    "\n",
    "# implements list of names\n",
    "names_string = input(\"Give me everybody's names, seperated by a comma.\")\n",
    "names = names_string.split(\",\")\n",
    "\n",
    "num_items = len(names)\n",
    "\n",
    "# Chooses random number\n",
    "random_choice = random.randint(0, num_items - 1)\n",
    "\n",
    "# puts together name and number\n",
    "person_who_will_pay = names[random_choice]\n",
    "\n",
    "# prints name\n",
    "print(f\"{person_who_will_pay} is going to buy the meal today!\")"
   ]
  },
  {
   "attachments": {},
   "cell_type": "markdown",
   "metadata": {},
   "source": []
  },
  {
   "cell_type": "code",
   "execution_count": 82,
   "metadata": {},
   "outputs": [
    {
     "name": "stdout",
     "output_type": "stream",
     "text": [
      "Player 2 won with a score of 5 bananas\n",
      "Player 2 won with a score of 10 bananas\n"
     ]
    }
   ],
   "source": [
    "import random\n",
    "score1 = 0\n",
    "score2 = 0\n",
    "\n",
    "def RandomNumberGame():\n",
    "    score1 = random.randint(1, 10)\n",
    "    score2 = random.randint(1, 10) \n",
    "    if score1 > score2:\n",
    "        print(\"Player 1 won with a score of \" + str(score1) + \" bananas\")\n",
    "    if score1 < score2:\n",
    "        print(\"Player 2 won with a score of \" + str(score2) + \" bananas\")\n",
    "    if score1 == score2:\n",
    "        print(\"Player 1 and Player 2 have tied. Both have \" + str (score1) + \" bananas\")\n",
    "\n",
    "RandomNumberGame()\n",
    "RandomNumberGame()"
   ]
  },
  {
   "cell_type": "code",
   "execution_count": 89,
   "metadata": {},
   "outputs": [
    {
     "name": "stdout",
     "output_type": "stream",
     "text": [
      "5 random names:\n",
      "Bob\n",
      "Georgy\n",
      "Jamilee\n",
      "Qais\n",
      "Michael\n"
     ]
    }
   ],
   "source": [
    "import random\n",
    "names = [\"Qais\", \"Jamili\", \"Jamilee\", \"Bob\", \"Georgy\", \"Michael\" ,] \n",
    "i = 0\n",
    "\n",
    "print(\"5 random names:\")\n",
    "while i < 5:\n",
    "    print(random.choice(names))\n",
    "    i += 1"
   ]
  },
  {
   "attachments": {},
   "cell_type": "markdown",
   "metadata": {},
   "source": [
    "## EXTRA CREDIT"
   ]
  },
  {
   "attachments": {},
   "cell_type": "markdown",
   "metadata": {},
   "source": [
    "Tried my best but I don't think I did it right."
   ]
  },
  {
   "cell_type": "code",
   "execution_count": 125,
   "metadata": {},
   "outputs": [
    {
     "name": "stdout",
     "output_type": "stream",
     "text": [
      "0 0 0 x x\n",
      "x x 0 0 0\n",
      "0 x 0 0 0\n",
      "0 x 0 0 0\n",
      "0 0 0 x x\n"
     ]
    }
   ],
   "source": [
    "startEnd()\n",
    "import random\n",
    "\n",
    "\n",
    "width = 5\n",
    "height = 5\n",
    "obstacles = 10\n",
    "\n",
    "\n",
    "maze = [[0 for i in range(width)] for j in range(height)]\n",
    "\n",
    "\n",
    "for i in range(obstacles):\n",
    "    x = random.randint(0, width - 1)\n",
    "    y = random.randint(0, height - 1)\n",
    "    maze[x][y] = 'x' \n",
    "\n",
    "\n",
    "startEnd()\n",
    "\n",
    "for row in maze:\n",
    "    print(' '.join(str(cell) for cell in row))"
   ]
  }
 ],
 "metadata": {
  "kernelspec": {
   "display_name": "Python 3",
   "language": "python",
   "name": "python3"
  },
  "language_info": {
   "codemirror_mode": {
    "name": "ipython",
    "version": 3
   },
   "file_extension": ".py",
   "mimetype": "text/x-python",
   "name": "python",
   "nbconvert_exporter": "python",
   "pygments_lexer": "ipython3",
   "version": "3.8.10"
  },
  "orig_nbformat": 4,
  "vscode": {
   "interpreter": {
    "hash": "916dbcbb3f70747c44a77c7bcd40155683ae19c65e1c03b4aa3499c5328201f1"
   }
  }
 },
 "nbformat": 4,
 "nbformat_minor": 2
}
