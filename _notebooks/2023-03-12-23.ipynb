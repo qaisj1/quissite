{
 "cells": [
  {
   "attachments": {},
   "cell_type": "markdown",
   "metadata": {},
   "source": [
    "# 2.3 Hacks\n",
    "- toc: true \n",
    "- badges: true\n",
    "- comments: true\n",
    "- categories: [jupyter]"
   ]
  },
  {
   "attachments": {},
   "cell_type": "markdown",
   "metadata": {},
   "source": [
    "## Dataset"
   ]
  },
  {
   "cell_type": "code",
   "execution_count": 3,
   "metadata": {},
   "outputs": [
    {
     "data": {
      "text/plain": [
       "[{'name': 'Qais', 'age': 16, 'location': 'Japan', 'house': 'house 5'},\n",
       " {'name': 'Bob', 'age': 30, 'location': 'Cancun', 'house': 'house 4'},\n",
       " {'name': 'Josh', 'age': 42, 'location': 'India', 'house': 'house 3'},\n",
       " {'name': 'Bilal', 'age': 35, 'location': 'Mexico', 'house': 'House 2'},\n",
       " {'name': 'Zteven', 'age': 28, 'location': 'Russia', 'house': 'House 1'}]"
      ]
     },
     "execution_count": 3,
     "metadata": {},
     "output_type": "execute_result"
    }
   ],
   "source": [
    "[\n",
    "  {\n",
    "    \"name\": \"Qais\",\n",
    "    \"age\": 16,\n",
    "    \"location\": \"Japan\",\n",
    "    \"house\": \"house 5\"\n",
    "  },\n",
    "  {\n",
    "    \"name\": \"Bob\",\n",
    "    \"age\": 30,\n",
    "    \"location\": \"Cancun\",\n",
    "    \"house\": \"house 4\"\n",
    "  },\n",
    "  {\n",
    "    \"name\": \"Josh\",\n",
    "    \"age\": 42,\n",
    "    \"location\": \"India\",\n",
    "    \"house\": \"house 3\"\n",
    "  },\n",
    "  {\n",
    "    \"name\": \"Bilal\",\n",
    "    \"age\": 35,\n",
    "    \"location\": \"Mexico\",\n",
    "    \"house\": \"House 2\"\n",
    "  },\n",
    "  {\n",
    "    \"name\": \"Zteven\",\n",
    "    \"age\": 28,\n",
    "    \"location\": \"Russia\",\n",
    "    \"house\": \"House 1\"\n",
    "  }\n",
    "]"
   ]
  },
  {
   "cell_type": "code",
   "execution_count": 2,
   "metadata": {},
   "outputs": [
    {
     "name": "stdout",
     "output_type": "stream",
     "text": [
      "Maximum age: 42\n",
      "Minimum age: 16\n",
      "Mean age: 30.2\n",
      "Median age: 30.0\n",
      "Mode of age: 16\n"
     ]
    }
   ],
   "source": [
    "import pandas as pd\n",
    "\n",
    "# Create a dataframe from the JSON data\n",
    "data = [\n",
    "  {\n",
    "    \"name\": \"Qais\",\n",
    "    \"age\": 16,\n",
    "    \"location\": \"Japan\",\n",
    "    \"house\": \"house 5\"\n",
    "  },\n",
    "  {\n",
    "    \"name\": \"Bob\",\n",
    "    \"age\": 30,\n",
    "    \"location\": \"Cancun\",\n",
    "    \"house\": \"house 4\"\n",
    "  },\n",
    "  {\n",
    "    \"name\": \"Josh\",\n",
    "    \"age\": 42,\n",
    "    \"location\": \"India\",\n",
    "    \"house\": \"house 3\"\n",
    "  },\n",
    "  {\n",
    "    \"name\": \"Bilal\",\n",
    "    \"age\": 35,\n",
    "    \"location\": \"Mexico\",\n",
    "    \"house\": \"House 2\"\n",
    "  },\n",
    "  {\n",
    "    \"name\": \"Zteven\",\n",
    "    \"age\": 28,\n",
    "    \"location\": \"Russia\",\n",
    "    \"house\": \"House 1\"\n",
    "  }\n",
    "]\n",
    "df = pd.DataFrame(data)\n",
    "\n",
    "# Extract information using Pandas functions\n",
    "print(\"Maximum age:\", df[\"age\"].max())\n",
    "print(\"Minimum age:\", df[\"age\"].min())\n",
    "print(\"Mean age:\", df[\"age\"].mean())\n",
    "print(\"Median age:\", df[\"age\"].median())\n",
    "print(\"Mode of age:\", df[\"age\"].mode()[0]) # mode() returns a Series, so we need to extract the first element\n"
   ]
  },
  {
   "attachments": {},
   "cell_type": "markdown",
   "metadata": {},
   "source": [
    "## Code blocks\n",
    "\n",
    "Code blocks for max age, minimum age, mean age, median age, and mode of age."
   ]
  },
  {
   "cell_type": "code",
   "execution_count": 4,
   "metadata": {},
   "outputs": [
    {
     "name": "stdout",
     "output_type": "stream",
     "text": [
      "Maximum age: 42\n"
     ]
    }
   ],
   "source": [
    "max_age = df['age'].max()\n",
    "print('Maximum age:', max_age)"
   ]
  },
  {
   "cell_type": "code",
   "execution_count": 5,
   "metadata": {},
   "outputs": [
    {
     "name": "stdout",
     "output_type": "stream",
     "text": [
      "Minimum age: 16\n"
     ]
    }
   ],
   "source": [
    "min_age = df['age'].min()\n",
    "print('Minimum age:', min_age)\n"
   ]
  },
  {
   "cell_type": "code",
   "execution_count": 6,
   "metadata": {},
   "outputs": [
    {
     "name": "stdout",
     "output_type": "stream",
     "text": [
      "Mean age: 30.2\n"
     ]
    }
   ],
   "source": [
    "mean_age = df['age'].mean()\n",
    "print('Mean age:', mean_age)\n"
   ]
  },
  {
   "cell_type": "code",
   "execution_count": 8,
   "metadata": {},
   "outputs": [
    {
     "name": "stdout",
     "output_type": "stream",
     "text": [
      "Median age: 30.0\n"
     ]
    }
   ],
   "source": [
    "median_age = df['age'].median()\n",
    "print('Median age:', median_age)\n"
   ]
  },
  {
   "cell_type": "code",
   "execution_count": 9,
   "metadata": {},
   "outputs": [
    {
     "name": "stdout",
     "output_type": "stream",
     "text": [
      "Mode of ages: 0    16\n",
      "1    28\n",
      "2    30\n",
      "3    35\n",
      "4    42\n",
      "Name: age, dtype: int64\n"
     ]
    }
   ],
   "source": [
    "mode_age = df['age'].mode()\n",
    "print('Mode of ages:', mode_age)\n"
   ]
  }
 ],
 "metadata": {
  "kernelspec": {
   "display_name": "base",
   "language": "python",
   "name": "python3"
  },
  "language_info": {
   "codemirror_mode": {
    "name": "ipython",
    "version": 3
   },
   "file_extension": ".py",
   "mimetype": "text/x-python",
   "name": "python",
   "nbconvert_exporter": "python",
   "pygments_lexer": "ipython3",
   "version": "3.9.12"
  },
  "orig_nbformat": 4
 },
 "nbformat": 4,
 "nbformat_minor": 2
}
