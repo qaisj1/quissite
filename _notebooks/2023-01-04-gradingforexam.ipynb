{
 "cells": [
  {
   "attachments": {},
   "cell_type": "markdown",
   "metadata": {},
   "source": [
    "# Performance Task Scoring 1\n",
    "\n",
    "- toc: true \n",
    "- badges: true\n",
    "- comments: true\n",
    "- categories: [jupyter]"
   ]
  },
  {
   "attachments": {},
   "cell_type": "markdown",
   "metadata": {},
   "source": [
    "## Sample F\n",
    "| Reporting Category          | Student Score      | College Board Score| Student Comments|\n",
    "|-----------                  | -----------        | ------------------ |------\n",
    "|Program Purpose and Function |         1          |         0          |Provided clear explanation of what the program is meant to do and how it can function based on a users input.\n",
    "|Data Abstraction             |         1          |         1          |2 segments of code are shown and an explanation of how the code is implemented into the program is given. \n",
    "|Managing Complexity          |         0          |          0         |This way of managing complexity is inefficent\n",
    "|Procedural Abstraction       |         1          |          1        |Both program code segments provided and thorougly explained.\n",
    "|Algorithm Implementation     |         1          |          1         |Has explanation which could allow others to recreate the program. \n",
    "|Testing                      |         1          |          1         |Each call result given with explanations of how they are tested."
   ]
  },
  {
   "attachments": {},
   "cell_type": "markdown",
   "metadata": {},
   "source": [
    "## Sample A\n",
    "| Reporting Category          | Student Score      | College Board Score| Student Comments|\n",
    "|-----------                  | -----------        | ------------------ |------\n",
    "|Program Purpose and Function |         1          |         1          |Game's purpose is clearly explained and how it is used is explained as well.\n",
    "|Data Abstraction             |         1          |         1          |2 segments of code are shown and an explanation of how the code is implemented into the program is given. \n",
    "|Managing Complexity          |         1          |          1         |Explains how a list is used in the program and how it is the most efficent way to manage complexity.\n",
    "|Procedural Abstraction       |         1          |          1         |The program code segments are given and thorougly explained.\n",
    "|Algorithm Implementation     |         0          |          1         |Does not provide clear information which could help recreate program.\n",
    "|Testing                      |         1          |          1         |Each call result given with explanations of how they are tested."
   ]
  }
 ],
 "metadata": {
  "kernelspec": {
   "display_name": "base",
   "language": "python",
   "name": "python3"
  },
  "language_info": {
   "name": "python",
   "version": "3.9.12 (main, Apr  5 2022, 06:56:58) \n[GCC 7.5.0]"
  },
  "orig_nbformat": 4,
  "vscode": {
   "interpreter": {
    "hash": "02dcd04116fff8c86cf53aae07e9cbbb0eecf269f918bf5b4fc9cd3d0ec07c99"
   }
  }
 },
 "nbformat": 4,
 "nbformat_minor": 2
}
