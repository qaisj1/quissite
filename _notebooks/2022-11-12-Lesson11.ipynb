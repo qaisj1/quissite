{
 "cells": [
  {
   "attachments": {},
   "cell_type": "markdown",
   "metadata": {},
   "source": [
    "# Homework for lesson 3.9-3.11"
   ]
  },
  {
   "attachments": {},
   "cell_type": "markdown",
   "metadata": {},
   "source": [
    "-------------------------------------------------------------------------------------------------------------------------\n",
    "### Problem 1.\n",
    "Write this Boolean statement in the form of a conditional (if/else) statement: stayInside⟵((isCold) OR (isRaining))\n",
    "\n",
    "IF (isCold or isRaining) {\n",
    "\n",
    "    stayInside ⟵ True\n",
    "\n",
    "}\n",
    "\n",
    "ELSE {\n",
    "\n",
    "    stayInside ⟵ False\n",
    "    \n",
    "}\n",
    "\n",
    "-------------------------------------------------------------------------------------------------------------------------"
   ]
  },
  {
   "attachments": {},
   "cell_type": "markdown",
   "metadata": {},
   "source": [
    "### Problem 2. \n",
    "Create an algorithm that uses selection and/or iteration that will represent one player’s complete turn.\n",
    "\n",
    "During a turn, each player gets 4 attempts/chances to get the greatest number possible.\n",
    "During each attempt, the player will use a random number generator to select a random number from 1 to 10.\n",
    "After they have had 4 chances, their score is the greatest number they received from the random number generator, and their turn is over.\n",
    "\n"
   ]
  },
  {
   "cell_type": "code",
   "execution_count": 23,
   "metadata": {},
   "outputs": [
    {
     "name": "stdout",
     "output_type": "stream",
     "text": [
      "Attempts: [1, 6, 6, 8]\n",
      "Max Number:\n",
      "8\n"
     ]
    }
   ],
   "source": [
    "import random\n",
    "numAttempts = []\n",
    "\n",
    "i = 1 \n",
    "while i <= 4:\n",
    "    numAttempts.append(random.randint(1,10))\n",
    "    i = i +1 \n",
    "\n",
    "print(\"Attempts:\", numAttempts)\n",
    "sort(randomNumber)\n",
    "print(\"Max Number:\")\n",
    "print(max(numAttempts))"
   ]
  },
  {
   "attachments": {},
   "cell_type": "markdown",
   "metadata": {},
   "source": [
    "-----------------------------------------------------------------------------------------------\n",
    "Problem 3.\n",
    "\n",
    "Create an algorithm that will allow the arrow to reach the gray square:\n",
    "\n",
    "Repeat until reach gray square:\n",
    "\n",
    "If canmoveForward\n",
    "\n",
    "    Move_Forward\n",
    "\n",
    "else {\n",
    "\n",
    "    if canturnright{\n",
    "\n",
    "        turnright\n",
    "    }\n",
    "    if canturnleft{\n",
    "        turnleft\n",
    "    }\n",
    "}\n",
    "}"
   ]
  },
  {
   "attachments": {},
   "cell_type": "markdown",
   "metadata": {},
   "source": [
    "---------------------------------------------------------------------------------\n",
    "##### Problem 4.\n",
    "Make a binary search tree of different the list [1,2,3,4,6,9,11,69]\n",
    "\n",
    "\n",
    "![](Di.png)"
   ]
  },
  {
   "attachments": {},
   "cell_type": "markdown",
   "metadata": {},
   "source": [
    "--------------------------------------------------------------------------------------------------------------------------\n",
    "#### Problem 5.\n",
    "\n",
    "Explain thoroughly how to find the number 69 in the list above (use key words)\n",
    "\n",
    "- We can use sequential search\n",
    "- Iterate through the list\n",
    "- Compare each number until we find 69\n",
    "- We can also use binary search\n",
    "- Begin from the middle index then continue to the other numbers\n",
    "-----------------------------------------------------------------------------------------------------------------------------"
   ]
  },
  {
   "attachments": {},
   "cell_type": "markdown",
   "metadata": {},
   "source": [
    "#### Problem 6.\n",
    "Make a diagram explaining how you found the list (not tree, include equation\n",
    "\n",
    "Middle index\n",
    "\n",
    "(1+8)/2=4.5~5\n",
    "\n",
    "Make a diagram explaining how you found the list (not tree, include equation\n",
    "\n",
    "![](Dia.png)\n",
    "\n",
    "--------------------------------------------------------------------------------------------"
   ]
  },
  {
   "attachments": {},
   "cell_type": "markdown",
   "metadata": {},
   "source": [
    "#### Problem 7.\n",
    "Put this list of strings in a order that can be used for binary search [“store”,”Market”,”Walmart”,Target”,”Ralphs”]\n",
    "\n",
    "[\"Store”,”Walmart”,”Market”,Target”,”Ralphs”]\n",
    "\n",
    "---------------------------------------------------------------------------------------------------------------------\n"
   ]
  },
  {
   "attachments": {},
   "cell_type": "markdown",
   "metadata": {},
   "source": [
    "#### Problem 8.\n",
    "Explain why Binary Search is more efficient than Sequential Search\n",
    "\n",
    "Binary search is more efficient because it moves exponentially while sequential search moves through the list one by one.\n",
    " Binary is able to search for half the numbers in a data set in one iteration, while sequential search has to go through every possibility.\n",
    " \n",
    "----------------------------------------------------------------------------------------------------"
   ]
  },
  {
   "attachments": {},
   "cell_type": "markdown",
   "metadata": {},
   "source": [
    "#### Problem 9\n",
    "[64,36,16,11,9] Explain which number you are finding, how many check it would take, and make a binary search tree\n",
    "\n",
    "I am searching for the number 9, which would take 3 iterations. You would start at 16, the middle index. Then you would do 4+4/2 to get 4, so the next index would be 9.\n",
    "\n",
    "![](diag.png)"
   ]
  }
 ],
 "metadata": {
  "kernelspec": {
   "display_name": "base",
   "language": "python",
   "name": "python3"
  },
  "language_info": {
   "codemirror_mode": {
    "name": "ipython",
    "version": 3
   },
   "file_extension": ".py",
   "mimetype": "text/x-python",
   "name": "python",
   "nbconvert_exporter": "python",
   "pygments_lexer": "ipython3",
   "version": "3.9.12 (main, Apr  5 2022, 06:56:58) \n[GCC 7.5.0]"
  },
  "orig_nbformat": 4,
  "vscode": {
   "interpreter": {
    "hash": "02dcd04116fff8c86cf53aae07e9cbbb0eecf269f918bf5b4fc9cd3d0ec07c99"
   }
  }
 },
 "nbformat": 4,
 "nbformat_minor": 2
}
