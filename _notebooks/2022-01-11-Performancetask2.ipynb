{
 "cells": [
  {
   "attachments": {},
   "cell_type": "markdown",
   "metadata": {},
   "source": [
    "# Performance Task Scoring 2\n",
    "\n",
    "- toc: true \n",
    "- badges: true\n",
    "- comments: true\n",
    "- categories: [jupyter]"
   ]
  },
  {
   "attachments": {},
   "cell_type": "markdown",
   "metadata": {},
   "source": [
    "## Sample I\n",
    "| Reporting Category          | Student Score      | College Board Score| Student Comments|\n",
    "|-----------                  | -----------        | ------------------ |------\n",
    "|Program Purpose and Function |        0           |          0         | Didn't explain what the program is used for and how he coded it. There was no purpose given instead he just said \" The purpose of this code is for you to see all the animals and to identify them when you're asked later\" which is more of a explanation of what it does and not why someone would want to use it.\n",
    "|Data Abstraction             |        0           |          0         | Not enough detail was given. Provided 2 distinct code segments which identifies as animalList, but animalList is not being used in either code segment.\n",
    "|Managing Complexity          |        0           |          0         | Nothing was shown.\n",
    "|Procedural Abstraction       |        1           |          0         | Parameters for function are shown and explained how they are used for the program.\n",
    "|Algorithm Implementation     |        1           |          0         | Loop, iteration and sequencing is provided.\n",
    "|Testing                      |        0           |          1         | Two calls are described. Each condition is tested and the results are given.  "
   ]
  },
  {
   "attachments": {},
   "cell_type": "markdown",
   "metadata": {},
   "source": [
    "## Sample B\n",
    "| Reporting Category          | Student Score      | College Board Score| Student Comments|\n",
    "|-----------                  | -----------        | ------------------ |------\n",
    "|Program Purpose and Function |        1           |          1         | Provided clear explanation of what the program is meant to do and how it can function based on a users input.\n",
    "|Data Abstraction             |        1           |          1         | Provided two distinct code segments. First code segment shows data being stored in the identified list and the second shows the data being accessed from an identified list under a new name since it is passed as a parameter.\n",
    "|Managing Complexity          |        1           |          1         | Provided list which manages complexity. Also explained how the code would be written differently without the list and how it would make the code more cluttered.\n",
    "|Procedural Abstraction       |        1           |          1         |  Provided student-developed procedure, createPoems, with four parameters that are used in the procedure. Parameters for function are shown and explained how they are used for the program.\n",
    "|Algorithm Implementation     |        1           |          1         | Loop, iteration and sequencing is provided. Explained in detail how the algorithm in the procedure works so it can be recreated.\n",
    "|Testing                      |        1           |          1         | They also explained what the conditions were. Two calls are described. Each condition is tested and the results are given.  "
   ]
  },
  {
   "attachments": {},
   "cell_type": "markdown",
   "metadata": {},
   "source": [
    "## Sample D\n",
    "| Reporting Category          | Student Score      | College Board Score| Student Comments|\n",
    "|-----------                  | -----------        | ------------------ |------\n",
    "|Program Purpose and Function |        1           |          1         | Provided the functionality of program and demonstrated the input and output in video.\n",
    "|Data Abstraction             |        1           |          1         |Two code segments are provided. The first segment shows data being stored in the identified list, and a second segment shows data being accessed from the list in a loop via a parametermthat is set to the identified list.\n",
    "|Managing Complexity          |        1           |          1         | Provided includes a list that combines six rankings  and an image URL for a single character into one collection to pass to the function that determines a winner, managing complexity in the program code.\n",
    "|Procedural Abstraction       |        1           |          1         | Provided a student-developed procedure, findWinner, with two parameters that are used in the procedure.\n",
    "|Algorithm Implementation     |        1           |          1         | Explains in detail how the algorithm in the procedure works so it can be recreated.\n",
    "|Testing                      |        1           |          1         | Provides two calls to the procedure with different arguments that lead to different results from the procedure. The first call uses the arguments Vision and Bishop."
   ]
  },
  {
   "attachments": {},
   "cell_type": "markdown",
   "metadata": {},
   "source": [
    "## Sample G\n",
    "| Reporting Category          | Student Score      | College Board Score| Student Comments|\n",
    "|-----------                  | -----------        | ------------------ |------\n",
    "|Program Purpose and Function |        1           |          1         | Provided the program's purpose and how it works, and described the input and output.\n",
    "|Data Abstraction             |        1           |          0         | Two code segments are provided. \n",
    "|Managing Complexity          |        1           |          0         | Provided a list in the program code which is used to manage complexity. \n",
    "|Procedural Abstraction       |        1           |          1         | Provided procedure called isitcorrect, with one explicit parameter, checkanswer, and a call to this procedure in a second code segment using the argument, answer.\n",
    "|Algorithm Implementation     |        1           |          1         | Explains in detail how the algorithm in the procedure works so it can be recreated.\n",
    "|Testing                      |        0           |          0         | Provides the conditions being tested rather than two different arguments that cause a different segment of code to execute."
   ]
  }
 ],
 "metadata": {
  "kernelspec": {
   "display_name": "base",
   "language": "python",
   "name": "python3"
  },
  "language_info": {
   "codemirror_mode": {
    "name": "ipython",
    "version": 3
   },
   "file_extension": ".py",
   "mimetype": "text/x-python",
   "name": "python",
   "nbconvert_exporter": "python",
   "pygments_lexer": "ipython3",
   "version": "3.9.12"
  },
  "orig_nbformat": 4,
  "vscode": {
   "interpreter": {
    "hash": "02dcd04116fff8c86cf53aae07e9cbbb0eecf269f918bf5b4fc9cd3d0ec07c99"
   }
  }
 },
 "nbformat": 4,
 "nbformat_minor": 2
}
