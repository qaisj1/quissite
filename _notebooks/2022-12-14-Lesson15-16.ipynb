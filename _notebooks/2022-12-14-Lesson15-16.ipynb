{
 "cells": [
  {
   "attachments": {},
   "cell_type": "markdown",
   "metadata": {},
   "source": [
    "# Lesson 16 Homework\n",
    "\n",
    "\n",
    "- toc: true \n",
    "- badges: true\n",
    "- comments: true\n",
    "- categories: [jupyter]"
   ]
  },
  {
   "attachments": {},
   "cell_type": "markdown",
   "metadata": {},
   "source": [
    "-------------------------------------\n",
    "## Vocab/Notes\n",
    "\n",
    "- Simulation: A simpler abstraction of a very complicated natural phenomena\n",
    "    - Does not implement things that are to difficult to simulate \n",
    "    - Uses less resources and better for predictions \n",
    "    - Can use a psuedo-random number generator to represent things like roling a dice\n"
   ]
  },
  {
   "attachments": {},
   "cell_type": "markdown",
   "metadata": {},
   "source": [
    "------------------------------------------\n",
    "## Answer Table"
   ]
  },
  {
   "attachments": {},
   "cell_type": "markdown",
   "metadata": {},
   "source": [
    "\n",
    "\n",
    "Name: Ahmad Qais Jamili\n",
    "\n",
    "3: A: To mock imperfections from the real world\n",
    "\n",
    "4: B: Other aircraft\n",
    "   \n",
    "5: C: Situation considered\n",
    "   \n",
    "6: A: Simulation\n",
    "\n",
    "7: A: Simulation\n",
    "     \n",
    "9: B: Experiment/calculation\n",
    "    "
   ]
  },
  {
   "attachments": {},
   "cell_type": "markdown",
   "metadata": {},
   "source": [
    "-----------------------------------------------\n",
    "## Extra Credit"
   ]
  },
  {
   "cell_type": "code",
   "execution_count": null,
   "metadata": {},
   "outputs": [
    {
     "name": "stdout",
     "output_type": "stream",
     "text": [
      "Welcome to the guessing numbers simulation!\n",
      "----------------------------------\n",
      "Try to guess a higher number.\n",
      "Try to guess a higher number.\n",
      "Try to guess a higher number.\n",
      "Try to guess a higher number.\n",
      "Try to guess a higher number.\n",
      "Try to guess a higher number.\n",
      "Try to guess a higher number.\n",
      "Try to guess a higher number.\n",
      "Try to guess a higher number.\n",
      "Go lower.\n",
      "Go lower.\n",
      "you guessed it right!!\n"
     ]
    }
   ],
   "source": [
    "import random\n",
    "print(\"Welcome to the guessing numbers simulation!\")\n",
    "print(\"----------------------------------\")\n",
    "n = random.randrange(1,100)\n",
    "guess = int(input(\"Enter a number (1-100): \"))\n",
    "while n!= guess:\n",
    "    if guess < n:\n",
    "        print(\"Try to guess a higher number.\")\n",
    "        guess = int(input(\"Enter a number again: \"))\n",
    "    elif guess > n:\n",
    "        print(\"Go lower.\")\n",
    "        guess = int(input(\"Enter a number again: \"))\n",
    "    else:\n",
    "      break\n",
    "print(\"you guessed it right!!\")"
   ]
  }
 ],
 "metadata": {
  "kernelspec": {
   "display_name": "base",
   "language": "python",
   "name": "python3"
  },
  "language_info": {
   "codemirror_mode": {
    "name": "ipython",
    "version": 3
   },
   "file_extension": ".py",
   "mimetype": "text/x-python",
   "name": "python",
   "nbconvert_exporter": "python",
   "pygments_lexer": "ipython3",
   "version": "3.9.12"
  },
  "orig_nbformat": 4,
  "vscode": {
   "interpreter": {
    "hash": "02dcd04116fff8c86cf53aae07e9cbbb0eecf269f918bf5b4fc9cd3d0ec07c99"
   }
  }
 },
 "nbformat": 4,
 "nbformat_minor": 2
}
